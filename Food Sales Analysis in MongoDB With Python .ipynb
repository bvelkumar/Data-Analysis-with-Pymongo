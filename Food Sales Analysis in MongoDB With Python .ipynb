{
 "cells": [
  {
   "cell_type": "markdown",
   "id": "7d2149b7",
   "metadata": {},
   "source": [
    "#Pymongo\n",
    "\n",
    "\n"
   ]
  },
  {
   "cell_type": "markdown",
   "id": "e8789cb9",
   "metadata": {},
   "source": [
    "Anaconda prompt:pip install pymongo\n"
   ]
  },
  {
   "cell_type": "code",
   "execution_count": 1,
   "id": "1ed278b8",
   "metadata": {},
   "outputs": [],
   "source": [
    "from pymongo import MongoClient\n"
   ]
  },
  {
   "cell_type": "code",
   "execution_count": 2,
   "id": "b40a633d",
   "metadata": {},
   "outputs": [],
   "source": [
    "client = MongoClient('mongodb://localhost:27017/')"
   ]
  },
  {
   "cell_type": "code",
   "execution_count": 3,
   "id": "ee07550d",
   "metadata": {},
   "outputs": [
    {
     "data": {
      "text/plain": [
       "['admin',\n",
       " 'bike',\n",
       " 'books',\n",
       " 'config',\n",
       " 'emp',\n",
       " 'employee',\n",
       " 'flights',\n",
       " 'foodsales',\n",
       " 'local',\n",
       " 'passangers',\n",
       " 'patients',\n",
       " 'productdetails',\n",
       " 'products',\n",
       " 'restaurants',\n",
       " 'sales',\n",
       " 'school',\n",
       " 'shop',\n",
       " 'worldcupfinal']"
      ]
     },
     "execution_count": 3,
     "metadata": {},
     "output_type": "execute_result"
    }
   ],
   "source": [
    "client.list_database_names()\n"
   ]
  },
  {
   "cell_type": "code",
   "execution_count": 8,
   "id": "61dcc9ac",
   "metadata": {},
   "outputs": [],
   "source": [
    "db = client [\"foodsales\"]"
   ]
  },
  {
   "cell_type": "code",
   "execution_count": 9,
   "id": "58f43fc9",
   "metadata": {},
   "outputs": [
    {
     "data": {
      "text/plain": [
       "['fooddata']"
      ]
     },
     "execution_count": 9,
     "metadata": {},
     "output_type": "execute_result"
    }
   ],
   "source": [
    "db.list_collection_names()"
   ]
  },
  {
   "cell_type": "code",
   "execution_count": 10,
   "id": "696dfb72",
   "metadata": {},
   "outputs": [
    {
     "data": {
      "text/plain": [
       "244"
      ]
     },
     "execution_count": 10,
     "metadata": {},
     "output_type": "execute_result"
    }
   ],
   "source": [
    "#To Count the total no of documents \n",
    "\n",
    "db.fooddata.count_documents({ })"
   ]
  },
  {
   "cell_type": "code",
   "execution_count": 59,
   "id": "f620a9cd",
   "metadata": {},
   "outputs": [
    {
     "data": {
      "text/plain": [
       "{'_id': ObjectId('61b1982fc1d19b0120c86bde'),\n",
       " 'OrderDate': '1/1/2020',\n",
       " 'Region': 'East',\n",
       " 'City': 'Boston',\n",
       " 'Category': 'Bars',\n",
       " 'Product': 'Carrot',\n",
       " 'Quantity': 33,\n",
       " 'UnitPrice': 1.77,\n",
       " 'TotalPrice': 58.41}"
      ]
     },
     "execution_count": 59,
     "metadata": {},
     "output_type": "execute_result"
    }
   ],
   "source": [
    "#To Find the one document \n",
    "\n",
    "\n",
    "db.fooddata.find_one()"
   ]
  },
  {
   "cell_type": "code",
   "execution_count": 23,
   "id": "de37b3a8",
   "metadata": {},
   "outputs": [
    {
     "name": "stdout",
     "output_type": "stream",
     "text": [
      "{'_id': ObjectId('619f4be540352d46248c91ec'), 'OrderDate': '1/1/2020', 'Region': 'East', 'City': 'Boston', 'Category': 'Bars', 'Product': 'Carrot', 'Quantity': '33', 'UnitPrice': '1.77', 'TotalPrice': '58.41'}\n",
      "{'_id': ObjectId('619f4be540352d46248c91ed'), 'OrderDate': '1/4/2020', 'Region': 'East', 'City': 'Boston', 'Category': 'Crackers', 'Product': 'Whole Wheat', 'Quantity': '87', 'UnitPrice': '3.49', 'TotalPrice': '303.63'}\n",
      "{'_id': ObjectId('619f4be540352d46248c91ee'), 'OrderDate': '1/7/2020', 'Region': 'West', 'City': 'Los Angeles', 'Category': 'Cookies', 'Product': 'Chocolate Chip', 'Quantity': '58', 'UnitPrice': '1.87', 'TotalPrice': '108.46'}\n",
      "{'_id': ObjectId('619f4be540352d46248c91ef'), 'OrderDate': '1/10/2020', 'Region': 'East', 'City': 'New York', 'Category': 'Cookies', 'Product': 'Chocolate Chip', 'Quantity': '82', 'UnitPrice': '1.87', 'TotalPrice': '153.34'}\n",
      "{'_id': ObjectId('619f4be540352d46248c91f0'), 'OrderDate': '1/13/2020', 'Region': 'East', 'City': 'Boston', 'Category': 'Cookies', 'Product': 'Arrowroot', 'Quantity': '38', 'UnitPrice': '2.18', 'TotalPrice': '82.84'}\n",
      "{'_id': ObjectId('619f4be540352d46248c91f1'), 'OrderDate': '1/16/2020', 'Region': 'East', 'City': 'Boston', 'Category': 'Bars', 'Product': 'Carrot', 'Quantity': '54', 'UnitPrice': '1.77', 'TotalPrice': '95.58'}\n",
      "{'_id': ObjectId('619f4be540352d46248c91f2'), 'OrderDate': '1/19/2020', 'Region': 'East', 'City': 'Boston', 'Category': 'Crackers', 'Product': 'Whole Wheat', 'Quantity': '149', 'UnitPrice': '3.49', 'TotalPrice': '520.01'}\n",
      "{'_id': ObjectId('619f4be540352d46248c91f3'), 'OrderDate': '1/22/2020', 'Region': 'West', 'City': 'Los Angeles', 'Category': 'Bars', 'Product': 'Carrot', 'Quantity': '51', 'UnitPrice': '1.77', 'TotalPrice': '90.27'}\n",
      "{'_id': ObjectId('619f4be540352d46248c91f4'), 'OrderDate': '1/25/2020', 'Region': 'East', 'City': 'New York', 'Category': 'Bars', 'Product': 'Carrot', 'Quantity': '100', 'UnitPrice': '1.77', 'TotalPrice': '177'}\n",
      "{'_id': ObjectId('619f4be540352d46248c91f5'), 'OrderDate': '1/28/2020', 'Region': 'East', 'City': 'New York', 'Category': 'Snacks', 'Product': 'Potato Chips', 'Quantity': '28', 'UnitPrice': '1.35', 'TotalPrice': '37.8'}\n",
      "{'_id': ObjectId('619f4be540352d46248c91f6'), 'OrderDate': '1/31/2020', 'Region': 'East', 'City': 'Boston', 'Category': 'Cookies', 'Product': 'Arrowroot', 'Quantity': '36', 'UnitPrice': '2.18', 'TotalPrice': '78.48'}\n",
      "{'_id': ObjectId('619f4be540352d46248c91f7'), 'OrderDate': '2/3/2020', 'Region': 'East', 'City': 'Boston', 'Category': 'Cookies', 'Product': 'Chocolate Chip', 'Quantity': '31', 'UnitPrice': '1.87', 'TotalPrice': '57.97'}\n",
      "{'_id': ObjectId('619f4be540352d46248c91f8'), 'OrderDate': '2/6/2020', 'Region': 'East', 'City': 'Boston', 'Category': 'Crackers', 'Product': 'Whole Wheat', 'Quantity': '28', 'UnitPrice': '3.49', 'TotalPrice': '97.72'}\n",
      "{'_id': ObjectId('619f4be540352d46248c91f9'), 'OrderDate': '2/9/2020', 'Region': 'West', 'City': 'Los Angeles', 'Category': 'Bars', 'Product': 'Carrot', 'Quantity': '44', 'UnitPrice': '1.77', 'TotalPrice': '77.88'}\n",
      "{'_id': ObjectId('619f4be540352d46248c91fa'), 'OrderDate': '2/12/2020', 'Region': 'East', 'City': 'New York', 'Category': 'Bars', 'Product': 'Carrot', 'Quantity': '23', 'UnitPrice': '1.77', 'TotalPrice': '40.71'}\n",
      "{'_id': ObjectId('619f4be540352d46248c91fb'), 'OrderDate': '2/15/2020', 'Region': 'East', 'City': 'New York', 'Category': 'Snacks', 'Product': 'Potato Chips', 'Quantity': '27', 'UnitPrice': '1.35', 'TotalPrice': '36.45'}\n",
      "{'_id': ObjectId('619f4be540352d46248c91fc'), 'OrderDate': '2/18/2020', 'Region': 'East', 'City': 'Boston', 'Category': 'Cookies', 'Product': 'Arrowroot', 'Quantity': '43', 'UnitPrice': '2.18', 'TotalPrice': '93.74'}\n",
      "{'_id': ObjectId('619f4be540352d46248c91fd'), 'OrderDate': '2/21/2020', 'Region': 'East', 'City': 'Boston', 'Category': 'Cookies', 'Product': 'Oatmeal Raisin', 'Quantity': '123', 'UnitPrice': '2.84', 'TotalPrice': '349.32'}\n",
      "{'_id': ObjectId('619f4be540352d46248c91fe'), 'OrderDate': '2/24/2020', 'Region': 'West', 'City': 'Los Angeles', 'Category': 'Bars', 'Product': 'Bran', 'Quantity': '42', 'UnitPrice': '1.87', 'TotalPrice': '78.54'}\n",
      "{'_id': ObjectId('619f4be540352d46248c91ff'), 'OrderDate': '2/27/2020', 'Region': 'West', 'City': 'Los Angeles', 'Category': 'Cookies', 'Product': 'Oatmeal Raisin', 'Quantity': '33', 'UnitPrice': '2.84', 'TotalPrice': '93.72'}\n",
      "{'_id': ObjectId('619f4be540352d46248c9200'), 'OrderDate': '3/2/2020', 'Region': 'East', 'City': 'New York', 'Category': 'Cookies', 'Product': 'Chocolate Chip', 'Quantity': '85', 'UnitPrice': '1.87', 'TotalPrice': '158.95'}\n",
      "{'_id': ObjectId('619f4be540352d46248c9201'), 'OrderDate': '3/5/2020', 'Region': 'West', 'City': 'San Diego', 'Category': 'Cookies', 'Product': 'Oatmeal Raisin', 'Quantity': '30', 'UnitPrice': '2.84', 'TotalPrice': '85.2'}\n",
      "{'_id': ObjectId('619f4be540352d46248c9202'), 'OrderDate': '3/8/2020', 'Region': 'East', 'City': 'Boston', 'Category': 'Bars', 'Product': 'Carrot', 'Quantity': '61', 'UnitPrice': '1.77', 'TotalPrice': '107.97'}\n",
      "{'_id': ObjectId('619f4be540352d46248c9203'), 'OrderDate': '3/11/2020', 'Region': 'East', 'City': 'Boston', 'Category': 'Crackers', 'Product': 'Whole Wheat', 'Quantity': '40', 'UnitPrice': '3.49', 'TotalPrice': '139.6'}\n",
      "{'_id': ObjectId('619f4be540352d46248c9204'), 'OrderDate': '3/14/2020', 'Region': 'West', 'City': 'Los Angeles', 'Category': 'Cookies', 'Product': 'Chocolate Chip', 'Quantity': '86', 'UnitPrice': '1.87', 'TotalPrice': '160.82'}\n",
      "{'_id': ObjectId('619f4be540352d46248c9205'), 'OrderDate': '3/17/2020', 'Region': 'East', 'City': 'New York', 'Category': 'Bars', 'Product': 'Carrot', 'Quantity': '38', 'UnitPrice': '1.77', 'TotalPrice': '67.26'}\n",
      "{'_id': ObjectId('619f4be540352d46248c9206'), 'OrderDate': '3/20/2020', 'Region': 'East', 'City': 'New York', 'Category': 'Snacks', 'Product': 'Potato Chips', 'Quantity': '68', 'UnitPrice': '1.68', 'TotalPrice': '114.24'}\n",
      "{'_id': ObjectId('619f4be540352d46248c9207'), 'OrderDate': '3/23/2020', 'Region': 'West', 'City': 'San Diego', 'Category': 'Cookies', 'Product': 'Chocolate Chip', 'Quantity': '39', 'UnitPrice': '1.87', 'TotalPrice': '72.93'}\n",
      "{'_id': ObjectId('619f4be540352d46248c9208'), 'OrderDate': '3/26/2020', 'Region': 'East', 'City': 'Boston', 'Category': 'Bars', 'Product': 'Bran', 'Quantity': '103', 'UnitPrice': '1.87', 'TotalPrice': '192.61'}\n",
      "{'_id': ObjectId('619f4be540352d46248c9209'), 'OrderDate': '3/29/2020', 'Region': 'East', 'City': 'Boston', 'Category': 'Cookies', 'Product': 'Oatmeal Raisin', 'Quantity': '193', 'UnitPrice': '2.84', 'TotalPrice': '548.12'}\n",
      "{'_id': ObjectId('619f4be540352d46248c920a'), 'OrderDate': '4/1/2020', 'Region': 'West', 'City': 'Los Angeles', 'Category': 'Bars', 'Product': 'Carrot', 'Quantity': '58', 'UnitPrice': '1.77', 'TotalPrice': '102.66'}\n",
      "{'_id': ObjectId('619f4be540352d46248c920b'), 'OrderDate': '4/4/2020', 'Region': 'West', 'City': 'Los Angeles', 'Category': 'Snacks', 'Product': 'Potato Chips', 'Quantity': '68', 'UnitPrice': '1.68', 'TotalPrice': '114.24'}\n",
      "{'_id': ObjectId('619f4be540352d46248c920c'), 'OrderDate': '4/7/2020', 'Region': 'East', 'City': 'New York', 'Category': 'Bars', 'Product': 'Carrot', 'Quantity': '91', 'UnitPrice': '1.77', 'TotalPrice': '161.07'}\n",
      "{'_id': ObjectId('619f4be540352d46248c920d'), 'OrderDate': '4/10/2020', 'Region': 'East', 'City': 'New York', 'Category': 'Crackers', 'Product': 'Whole Wheat', 'Quantity': '23', 'UnitPrice': '3.49', 'TotalPrice': '80.27'}\n",
      "{'_id': ObjectId('619f4be540352d46248c920e'), 'OrderDate': '4/13/2020', 'Region': 'West', 'City': 'San Diego', 'Category': 'Snacks', 'Product': 'Potato Chips', 'Quantity': '28', 'UnitPrice': '1.68', 'TotalPrice': '47.04'}\n",
      "{'_id': ObjectId('619f4be540352d46248c920f'), 'OrderDate': '4/16/2020', 'Region': 'East', 'City': 'Boston', 'Category': 'Bars', 'Product': 'Carrot', 'Quantity': '48', 'UnitPrice': '1.77', 'TotalPrice': '84.96'}\n",
      "{'_id': ObjectId('619f4be540352d46248c9210'), 'OrderDate': '4/19/2020', 'Region': 'East', 'City': 'Boston', 'Category': 'Snacks', 'Product': 'Potato Chips', 'Quantity': '134', 'UnitPrice': '1.68', 'TotalPrice': '225.12'}\n",
      "{'_id': ObjectId('619f4be540352d46248c9211'), 'OrderDate': '4/22/2020', 'Region': 'West', 'City': 'Los Angeles', 'Category': 'Bars', 'Product': 'Carrot', 'Quantity': '20', 'UnitPrice': '1.77', 'TotalPrice': '35.4'}\n",
      "{'_id': ObjectId('619f4be540352d46248c9212'), 'OrderDate': '4/25/2020', 'Region': 'East', 'City': 'New York', 'Category': 'Bars', 'Product': 'Carrot', 'Quantity': '53', 'UnitPrice': '1.77', 'TotalPrice': '93.81'}\n",
      "{'_id': ObjectId('619f4be540352d46248c9213'), 'OrderDate': '4/28/2020', 'Region': 'East', 'City': 'New York', 'Category': 'Snacks', 'Product': 'Potato Chips', 'Quantity': '64', 'UnitPrice': '1.68', 'TotalPrice': '107.52'}\n",
      "{'_id': ObjectId('619f4be540352d46248c9214'), 'OrderDate': '5/1/2020', 'Region': 'West', 'City': 'San Diego', 'Category': 'Cookies', 'Product': 'Chocolate Chip', 'Quantity': '63', 'UnitPrice': '1.87', 'TotalPrice': '117.81'}\n",
      "{'_id': ObjectId('619f4be540352d46248c9215'), 'OrderDate': '5/4/2020', 'Region': 'East', 'City': 'Boston', 'Category': 'Bars', 'Product': 'Bran', 'Quantity': '105', 'UnitPrice': '1.87', 'TotalPrice': '196.35'}\n",
      "{'_id': ObjectId('619f4be540352d46248c9216'), 'OrderDate': '5/7/2020', 'Region': 'East', 'City': 'Boston', 'Category': 'Cookies', 'Product': 'Oatmeal Raisin', 'Quantity': '138', 'UnitPrice': '2.84', 'TotalPrice': '391.92'}\n",
      "{'_id': ObjectId('619f4be540352d46248c9217'), 'OrderDate': '5/10/2020', 'Region': 'West', 'City': 'Los Angeles', 'Category': 'Bars', 'Product': 'Carrot', 'Quantity': '25', 'UnitPrice': '1.77', 'TotalPrice': '44.25'}\n",
      "{'_id': ObjectId('619f4be540352d46248c9218'), 'OrderDate': '5/13/2020', 'Region': 'West', 'City': 'Los Angeles', 'Category': 'Crackers', 'Product': 'Whole Wheat', 'Quantity': '21', 'UnitPrice': '3.49', 'TotalPrice': '73.29'}\n",
      "{'_id': ObjectId('619f4be540352d46248c9219'), 'OrderDate': '5/16/2020', 'Region': 'East', 'City': 'New York', 'Category': 'Bars', 'Product': 'Carrot', 'Quantity': '61', 'UnitPrice': '1.77', 'TotalPrice': '107.97'}\n",
      "{'_id': ObjectId('619f4be540352d46248c921a'), 'OrderDate': '5/19/2020', 'Region': 'East', 'City': 'New York', 'Category': 'Snacks', 'Product': 'Potato Chips', 'Quantity': '49', 'UnitPrice': '1.68', 'TotalPrice': '82.32'}\n",
      "{'_id': ObjectId('619f4be540352d46248c921b'), 'OrderDate': '5/22/2020', 'Region': 'West', 'City': 'San Diego', 'Category': 'Cookies', 'Product': 'Chocolate Chip', 'Quantity': '55', 'UnitPrice': '1.87', 'TotalPrice': '102.85'}\n",
      "{'_id': ObjectId('619f4be540352d46248c921c'), 'OrderDate': '5/25/2020', 'Region': 'East', 'City': 'Boston', 'Category': 'Cookies', 'Product': 'Arrowroot', 'Quantity': '27', 'UnitPrice': '2.18', 'TotalPrice': '58.86'}\n",
      "{'_id': ObjectId('619f4be540352d46248c921d'), 'OrderDate': '5/28/2020', 'Region': 'East', 'City': 'Boston', 'Category': 'Bars', 'Product': 'Carrot', 'Quantity': '58', 'UnitPrice': '1.77', 'TotalPrice': '102.66'}\n",
      "{'_id': ObjectId('619f4be540352d46248c921e'), 'OrderDate': '5/31/2020', 'Region': 'East', 'City': 'Boston', 'Category': 'Crackers', 'Product': 'Whole Wheat', 'Quantity': '33', 'UnitPrice': '3.49', 'TotalPrice': '115.17'}\n",
      "{'_id': ObjectId('619f4be540352d46248c921f'), 'OrderDate': '6/3/2020', 'Region': 'West', 'City': 'Los Angeles', 'Category': 'Cookies', 'Product': 'Oatmeal Raisin', 'Quantity': '288', 'UnitPrice': '2.84', 'TotalPrice': '817.92'}\n",
      "{'_id': ObjectId('619f4be540352d46248c9220'), 'OrderDate': '6/6/2020', 'Region': 'East', 'City': 'New York', 'Category': 'Cookies', 'Product': 'Chocolate Chip', 'Quantity': '76', 'UnitPrice': '1.87', 'TotalPrice': '142.12'}\n",
      "{'_id': ObjectId('619f4be540352d46248c9221'), 'OrderDate': '6/9/2020', 'Region': 'West', 'City': 'San Diego', 'Category': 'Bars', 'Product': 'Carrot', 'Quantity': '42', 'UnitPrice': '1.77', 'TotalPrice': '74.34'}\n",
      "{'_id': ObjectId('619f4be540352d46248c9222'), 'OrderDate': '6/12/2020', 'Region': 'West', 'City': 'San Diego', 'Category': 'Crackers', 'Product': 'Whole Wheat', 'Quantity': '20', 'UnitPrice': '3.49', 'TotalPrice': '69.8'}\n",
      "{'_id': ObjectId('619f4be540352d46248c9223'), 'OrderDate': '6/15/2020', 'Region': 'East', 'City': 'Boston', 'Category': 'Bars', 'Product': 'Carrot', 'Quantity': '75', 'UnitPrice': '1.77', 'TotalPrice': '132.75'}\n",
      "{'_id': ObjectId('619f4be540352d46248c9224'), 'OrderDate': '6/18/2020', 'Region': 'East', 'City': 'Boston', 'Category': 'Crackers', 'Product': 'Whole Wheat', 'Quantity': '38', 'UnitPrice': '3.49', 'TotalPrice': '132.62'}\n",
      "{'_id': ObjectId('619f4be540352d46248c9225'), 'OrderDate': '6/21/2020', 'Region': 'West', 'City': 'Los Angeles', 'Category': 'Bars', 'Product': 'Carrot', 'Quantity': '306', 'UnitPrice': '1.77', 'TotalPrice': '541.62'}\n",
      "{'_id': ObjectId('619f4be540352d46248c9226'), 'OrderDate': '6/24/2020', 'Region': 'West', 'City': 'Los Angeles', 'Category': 'Snacks', 'Product': 'Potato Chips', 'Quantity': '28', 'UnitPrice': '1.68', 'TotalPrice': '47.04'}\n",
      "{'_id': ObjectId('619f4be540352d46248c9227'), 'OrderDate': '6/27/2020', 'Region': 'East', 'City': 'New York', 'Category': 'Bars', 'Product': 'Bran', 'Quantity': '110', 'UnitPrice': '1.87', 'TotalPrice': '205.7'}\n",
      "{'_id': ObjectId('619f4be540352d46248c9228'), 'OrderDate': '6/30/2020', 'Region': 'East', 'City': 'New York', 'Category': 'Cookies', 'Product': 'Oatmeal Raisin', 'Quantity': '51', 'UnitPrice': '2.84', 'TotalPrice': '144.84'}\n",
      "{'_id': ObjectId('619f4be540352d46248c9229'), 'OrderDate': '7/3/2020', 'Region': 'West', 'City': 'San Diego', 'Category': 'Bars', 'Product': 'Carrot', 'Quantity': '52', 'UnitPrice': '1.77', 'TotalPrice': '92.04'}\n",
      "{'_id': ObjectId('619f4be540352d46248c922a'), 'OrderDate': '7/6/2020', 'Region': 'West', 'City': 'San Diego', 'Category': 'Crackers', 'Product': 'Whole Wheat', 'Quantity': '28', 'UnitPrice': '3.49', 'TotalPrice': '97.72'}\n",
      "{'_id': ObjectId('619f4be540352d46248c922b'), 'OrderDate': '7/9/2020', 'Region': 'East', 'City': 'Boston', 'Category': 'Bars', 'Product': 'Carrot', 'Quantity': '136', 'UnitPrice': '1.77', 'TotalPrice': '240.72'}\n",
      "{'_id': ObjectId('619f4be540352d46248c922c'), 'OrderDate': '7/12/2020', 'Region': 'East', 'City': 'Boston', 'Category': 'Crackers', 'Product': 'Whole Wheat', 'Quantity': '42', 'UnitPrice': '3.49', 'TotalPrice': '146.58'}\n",
      "{'_id': ObjectId('619f4be540352d46248c922d'), 'OrderDate': '7/15/2020', 'Region': 'West', 'City': 'Los Angeles', 'Category': 'Cookies', 'Product': 'Chocolate Chip', 'Quantity': '75', 'UnitPrice': '1.87', 'TotalPrice': '140.25'}\n",
      "{'_id': ObjectId('619f4be540352d46248c922e'), 'OrderDate': '7/18/2020', 'Region': 'East', 'City': 'New York', 'Category': 'Bars', 'Product': 'Bran', 'Quantity': '72', 'UnitPrice': '1.87', 'TotalPrice': '134.64'}\n",
      "{'_id': ObjectId('619f4be540352d46248c922f'), 'OrderDate': '7/21/2020', 'Region': 'East', 'City': 'New York', 'Category': 'Cookies', 'Product': 'Oatmeal Raisin', 'Quantity': '56', 'UnitPrice': '2.84', 'TotalPrice': '159.04'}\n",
      "{'_id': ObjectId('619f4be540352d46248c9230'), 'OrderDate': '7/24/2020', 'Region': 'West', 'City': 'San Diego', 'Category': 'Bars', 'Product': 'Bran', 'Quantity': '51', 'UnitPrice': '1.87', 'TotalPrice': '95.37'}\n",
      "{'_id': ObjectId('619f4be540352d46248c9231'), 'OrderDate': '7/27/2020', 'Region': 'West', 'City': 'San Diego', 'Category': 'Snacks', 'Product': 'Potato Chips', 'Quantity': '31', 'UnitPrice': '1.68', 'TotalPrice': '52.08'}\n",
      "{'_id': ObjectId('619f4be540352d46248c9232'), 'OrderDate': '7/30/2020', 'Region': 'East', 'City': 'Boston', 'Category': 'Bars', 'Product': 'Bran', 'Quantity': '56', 'UnitPrice': '1.87', 'TotalPrice': '104.72'}\n",
      "{'_id': ObjectId('619f4be540352d46248c9233'), 'OrderDate': '8/2/2020', 'Region': 'East', 'City': 'Boston', 'Category': 'Cookies', 'Product': 'Oatmeal Raisin', 'Quantity': '137', 'UnitPrice': '2.84', 'TotalPrice': '389.08'}\n",
      "{'_id': ObjectId('619f4be540352d46248c9234'), 'OrderDate': '8/5/2020', 'Region': 'West', 'City': 'Los Angeles', 'Category': 'Cookies', 'Product': 'Chocolate Chip', 'Quantity': '107', 'UnitPrice': '1.87', 'TotalPrice': '200.09'}\n",
      "{'_id': ObjectId('619f4be540352d46248c9235'), 'OrderDate': '8/8/2020', 'Region': 'East', 'City': 'New York', 'Category': 'Bars', 'Product': 'Carrot', 'Quantity': '24', 'UnitPrice': '1.77', 'TotalPrice': '42.48'}\n",
      "{'_id': ObjectId('619f4be540352d46248c9236'), 'OrderDate': '8/11/2020', 'Region': 'East', 'City': 'New York', 'Category': 'Crackers', 'Product': 'Whole Wheat', 'Quantity': '30', 'UnitPrice': '3.49', 'TotalPrice': '104.7'}\n",
      "{'_id': ObjectId('619f4be540352d46248c9237'), 'OrderDate': '8/14/2020', 'Region': 'West', 'City': 'San Diego', 'Category': 'Cookies', 'Product': 'Chocolate Chip', 'Quantity': '70', 'UnitPrice': '1.87', 'TotalPrice': '130.9'}\n",
      "{'_id': ObjectId('619f4be540352d46248c9238'), 'OrderDate': '8/17/2020', 'Region': 'East', 'City': 'Boston', 'Category': 'Cookies', 'Product': 'Arrowroot', 'Quantity': '31', 'UnitPrice': '2.18', 'TotalPrice': '67.58'}\n",
      "{'_id': ObjectId('619f4be540352d46248c9239'), 'OrderDate': '8/20/2020', 'Region': 'East', 'City': 'Boston', 'Category': 'Bars', 'Product': 'Carrot', 'Quantity': '109', 'UnitPrice': '1.77', 'TotalPrice': '192.93'}\n",
      "{'_id': ObjectId('619f4be540352d46248c923a'), 'OrderDate': '8/23/2020', 'Region': 'East', 'City': 'Boston', 'Category': 'Crackers', 'Product': 'Whole Wheat', 'Quantity': '21', 'UnitPrice': '3.49', 'TotalPrice': '73.29'}\n",
      "{'_id': ObjectId('619f4be540352d46248c923b'), 'OrderDate': '8/26/2020', 'Region': 'West', 'City': 'Los Angeles', 'Category': 'Cookies', 'Product': 'Chocolate Chip', 'Quantity': '80', 'UnitPrice': '1.87', 'TotalPrice': '149.6'}\n",
      "{'_id': ObjectId('619f4be540352d46248c923c'), 'OrderDate': '8/29/2020', 'Region': 'East', 'City': 'New York', 'Category': 'Bars', 'Product': 'Bran', 'Quantity': '75', 'UnitPrice': '1.87', 'TotalPrice': '140.25'}\n",
      "{'_id': ObjectId('619f4be540352d46248c923d'), 'OrderDate': '9/1/2020', 'Region': 'East', 'City': 'New York', 'Category': 'Cookies', 'Product': 'Oatmeal Raisin', 'Quantity': '74', 'UnitPrice': '2.84', 'TotalPrice': '210.16'}\n",
      "{'_id': ObjectId('619f4be540352d46248c923e'), 'OrderDate': '9/4/2020', 'Region': 'West', 'City': 'San Diego', 'Category': 'Bars', 'Product': 'Carrot', 'Quantity': '45', 'UnitPrice': '1.77', 'TotalPrice': '79.65'}\n",
      "{'_id': ObjectId('619f4be540352d46248c923f'), 'OrderDate': '9/7/2020', 'Region': 'East', 'City': 'Boston', 'Category': 'Cookies', 'Product': 'Arrowroot', 'Quantity': '28', 'UnitPrice': '2.18', 'TotalPrice': '61.04'}\n",
      "{'_id': ObjectId('619f4be540352d46248c9240'), 'OrderDate': '9/10/2020', 'Region': 'East', 'City': 'Boston', 'Category': 'Bars', 'Product': 'Carrot', 'Quantity': '143', 'UnitPrice': '1.77', 'TotalPrice': '253.11'}\n",
      "{'_id': ObjectId('619f4be540352d46248c9241'), 'OrderDate': '9/13/2020', 'Region': 'East', 'City': 'Boston', 'Category': 'Snacks', 'Product': 'Pretzels', 'Quantity': '27', 'UnitPrice': '3.15', 'TotalPrice': '85.05'}\n",
      "{'_id': ObjectId('619f4be540352d46248c9242'), 'OrderDate': '9/16/2020', 'Region': 'West', 'City': 'Los Angeles', 'Category': 'Bars', 'Product': 'Carrot', 'Quantity': '133', 'UnitPrice': '1.77', 'TotalPrice': '235.41'}\n",
      "{'_id': ObjectId('619f4be540352d46248c9243'), 'OrderDate': '9/19/2020', 'Region': 'East', 'City': 'New York', 'Category': 'Cookies', 'Product': 'Arrowroot', 'Quantity': '110', 'UnitPrice': '2.18', 'TotalPrice': '239.8'}\n",
      "{'_id': ObjectId('619f4be540352d46248c9244'), 'OrderDate': '9/22/2020', 'Region': 'East', 'City': 'New York', 'Category': 'Cookies', 'Product': 'Chocolate Chip', 'Quantity': '65', 'UnitPrice': '1.87', 'TotalPrice': '121.55'}\n",
      "{'_id': ObjectId('619f4be540352d46248c9245'), 'OrderDate': '9/25/2020', 'Region': 'West', 'City': 'San Diego', 'Category': 'Bars', 'Product': 'Bran', 'Quantity': '33', 'UnitPrice': '1.87', 'TotalPrice': '61.71'}\n",
      "{'_id': ObjectId('619f4be540352d46248c9246'), 'OrderDate': '9/28/2020', 'Region': 'East', 'City': 'Boston', 'Category': 'Cookies', 'Product': 'Arrowroot', 'Quantity': '81', 'UnitPrice': '2.18', 'TotalPrice': '176.58'}\n",
      "{'_id': ObjectId('619f4be540352d46248c9247'), 'OrderDate': '10/1/2020', 'Region': 'East', 'City': 'Boston', 'Category': 'Bars', 'Product': 'Carrot', 'Quantity': '77', 'UnitPrice': '1.77', 'TotalPrice': '136.29'}\n",
      "{'_id': ObjectId('619f4be540352d46248c9248'), 'OrderDate': '10/4/2020', 'Region': 'East', 'City': 'Boston', 'Category': 'Crackers', 'Product': 'Whole Wheat', 'Quantity': '38', 'UnitPrice': '3.49', 'TotalPrice': '132.62'}\n",
      "{'_id': ObjectId('619f4be540352d46248c9249'), 'OrderDate': '10/7/2020', 'Region': 'West', 'City': 'Los Angeles', 'Category': 'Bars', 'Product': 'Carrot', 'Quantity': '40', 'UnitPrice': '1.77', 'TotalPrice': '70.8'}\n",
      "{'_id': ObjectId('619f4be540352d46248c924a'), 'OrderDate': '10/10/2020', 'Region': 'West', 'City': 'Los Angeles', 'Category': 'Snacks', 'Product': 'Potato Chips', 'Quantity': '114', 'UnitPrice': '1.68', 'TotalPrice': '191.52'}\n",
      "{'_id': ObjectId('619f4be540352d46248c924b'), 'OrderDate': '10/13/2020', 'Region': 'East', 'City': 'New York', 'Category': 'Cookies', 'Product': 'Arrowroot', 'Quantity': '224', 'UnitPrice': '2.18', 'TotalPrice': '488.32'}\n",
      "{'_id': ObjectId('619f4be540352d46248c924c'), 'OrderDate': '10/16/2020', 'Region': 'East', 'City': 'New York', 'Category': 'Bars', 'Product': 'Carrot', 'Quantity': '141', 'UnitPrice': '1.77', 'TotalPrice': '249.57'}\n",
      "{'_id': ObjectId('619f4be540352d46248c924d'), 'OrderDate': '10/19/2020', 'Region': 'East', 'City': 'New York', 'Category': 'Crackers', 'Product': 'Whole Wheat', 'Quantity': '32', 'UnitPrice': '3.49', 'TotalPrice': '111.68'}\n",
      "{'_id': ObjectId('619f4be540352d46248c924e'), 'OrderDate': '10/22/2020', 'Region': 'West', 'City': 'San Diego', 'Category': 'Bars', 'Product': 'Carrot', 'Quantity': '20', 'UnitPrice': '1.77', 'TotalPrice': '35.4'}\n",
      "{'_id': ObjectId('619f4be540352d46248c924f'), 'OrderDate': '10/25/2020', 'Region': 'East', 'City': 'Boston', 'Category': 'Cookies', 'Product': 'Arrowroot', 'Quantity': '40', 'UnitPrice': '2.18', 'TotalPrice': '87.2'}\n",
      "{'_id': ObjectId('619f4be540352d46248c9250'), 'OrderDate': '10/28/2020', 'Region': 'East', 'City': 'Boston', 'Category': 'Cookies', 'Product': 'Chocolate Chip', 'Quantity': '49', 'UnitPrice': '1.87', 'TotalPrice': '91.63'}\n",
      "{'_id': ObjectId('619f4be540352d46248c9251'), 'OrderDate': '10/31/2020', 'Region': 'East', 'City': 'Boston', 'Category': 'Crackers', 'Product': 'Whole Wheat', 'Quantity': '46', 'UnitPrice': '3.49', 'TotalPrice': '160.54'}\n",
      "{'_id': ObjectId('619f4be540352d46248c9252'), 'OrderDate': '11/3/2020', 'Region': 'West', 'City': 'Los Angeles', 'Category': 'Bars', 'Product': 'Carrot', 'Quantity': '39', 'UnitPrice': '1.77', 'TotalPrice': '69.03'}\n",
      "{'_id': ObjectId('619f4be540352d46248c9253'), 'OrderDate': '11/6/2020', 'Region': 'West', 'City': 'Los Angeles', 'Category': 'Snacks', 'Product': 'Potato Chips', 'Quantity': '62', 'UnitPrice': '1.68', 'TotalPrice': '104.16'}\n",
      "{'_id': ObjectId('619f4be540352d46248c9254'), 'OrderDate': '11/9/2020', 'Region': 'East', 'City': 'New York', 'Category': 'Bars', 'Product': 'Carrot', 'Quantity': '90', 'UnitPrice': '1.77', 'TotalPrice': '159.3'}\n",
      "{'_id': ObjectId('619f4be540352d46248c9255'), 'OrderDate': '11/12/2020', 'Region': 'West', 'City': 'San Diego', 'Category': 'Cookies', 'Product': 'Arrowroot', 'Quantity': '103', 'UnitPrice': '2.18', 'TotalPrice': '224.54'}\n",
      "{'_id': ObjectId('619f4be540352d46248c9256'), 'OrderDate': '11/15/2020', 'Region': 'West', 'City': 'San Diego', 'Category': 'Cookies', 'Product': 'Oatmeal Raisin', 'Quantity': '32', 'UnitPrice': '2.84', 'TotalPrice': '90.88'}\n",
      "{'_id': ObjectId('619f4be540352d46248c9257'), 'OrderDate': '11/18/2020', 'Region': 'East', 'City': 'Boston', 'Category': 'Bars', 'Product': 'Bran', 'Quantity': '66', 'UnitPrice': '1.87', 'TotalPrice': '123.42'}\n",
      "{'_id': ObjectId('619f4be540352d46248c9258'), 'OrderDate': '11/21/2020', 'Region': 'East', 'City': 'Boston', 'Category': 'Cookies', 'Product': 'Oatmeal Raisin', 'Quantity': '97', 'UnitPrice': '2.84', 'TotalPrice': '275.48'}\n",
      "{'_id': ObjectId('619f4be540352d46248c9259'), 'OrderDate': '11/24/2020', 'Region': 'West', 'City': 'Los Angeles', 'Category': 'Bars', 'Product': 'Carrot', 'Quantity': '30', 'UnitPrice': '1.77', 'TotalPrice': '53.1'}\n",
      "{'_id': ObjectId('619f4be540352d46248c925a'), 'OrderDate': '11/27/2020', 'Region': 'West', 'City': 'Los Angeles', 'Category': 'Snacks', 'Product': 'Potato Chips', 'Quantity': '29', 'UnitPrice': '1.68', 'TotalPrice': '48.72'}\n",
      "{'_id': ObjectId('619f4be540352d46248c925b'), 'OrderDate': '11/30/2020', 'Region': 'East', 'City': 'New York', 'Category': 'Bars', 'Product': 'Carrot', 'Quantity': '92', 'UnitPrice': '1.77', 'TotalPrice': '162.84'}\n",
      "{'_id': ObjectId('619f4be540352d46248c925c'), 'OrderDate': '12/3/2020', 'Region': 'West', 'City': 'San Diego', 'Category': 'Cookies', 'Product': 'Arrowroot', 'Quantity': '139', 'UnitPrice': '2.18', 'TotalPrice': '303.02'}\n",
      "{'_id': ObjectId('619f4be540352d46248c925d'), 'OrderDate': '12/6/2020', 'Region': 'West', 'City': 'San Diego', 'Category': 'Cookies', 'Product': 'Oatmeal Raisin', 'Quantity': '29', 'UnitPrice': '2.84', 'TotalPrice': '82.36'}\n",
      "{'_id': ObjectId('619f4be540352d46248c925e'), 'OrderDate': '12/9/2020', 'Region': 'East', 'City': 'Boston', 'Category': 'Bars', 'Product': 'Banana', 'Quantity': '30', 'UnitPrice': '2.27', 'TotalPrice': '68.1'}\n",
      "{'_id': ObjectId('619f4be540352d46248c925f'), 'OrderDate': '12/12/2020', 'Region': 'East', 'City': 'Boston', 'Category': 'Cookies', 'Product': 'Chocolate Chip', 'Quantity': '36', 'UnitPrice': '1.87', 'TotalPrice': '67.32'}\n",
      "{'_id': ObjectId('619f4be540352d46248c9260'), 'OrderDate': '12/15/2020', 'Region': 'East', 'City': 'Boston', 'Category': 'Crackers', 'Product': 'Whole Wheat', 'Quantity': '41', 'UnitPrice': '3.49', 'TotalPrice': '143.09'}\n",
      "{'_id': ObjectId('619f4be540352d46248c9261'), 'OrderDate': '12/18/2020', 'Region': 'West', 'City': 'Los Angeles', 'Category': 'Bars', 'Product': 'Carrot', 'Quantity': '44', 'UnitPrice': '1.77', 'TotalPrice': '77.88'}\n",
      "{'_id': ObjectId('619f4be540352d46248c9262'), 'OrderDate': '12/21/2020', 'Region': 'West', 'City': 'Los Angeles', 'Category': 'Snacks', 'Product': 'Potato Chips', 'Quantity': '29', 'UnitPrice': '1.68', 'TotalPrice': '48.72'}\n",
      "{'_id': ObjectId('619f4be540352d46248c9263'), 'OrderDate': '12/24/2020', 'Region': 'East', 'City': 'New York', 'Category': 'Cookies', 'Product': 'Arrowroot', 'Quantity': '237', 'UnitPrice': '2.18', 'TotalPrice': '516.66'}\n",
      "{'_id': ObjectId('619f4be540352d46248c9264'), 'OrderDate': '12/27/2020', 'Region': 'East', 'City': 'New York', 'Category': 'Cookies', 'Product': 'Chocolate Chip', 'Quantity': '65', 'UnitPrice': '1.87', 'TotalPrice': '121.55'}\n",
      "{'_id': ObjectId('619f4be540352d46248c9265'), 'OrderDate': '12/30/2020', 'Region': 'West', 'City': 'San Diego', 'Category': 'Cookies', 'Product': 'Arrowroot', 'Quantity': '83', 'UnitPrice': '2.18', 'TotalPrice': '180.94'}\n",
      "{'_id': ObjectId('619f4be540352d46248c9266'), 'OrderDate': '1/2/2021', 'Region': 'East', 'City': 'Boston', 'Category': 'Cookies', 'Product': 'Arrowroot', 'Quantity': '32', 'UnitPrice': '2.18', 'TotalPrice': '69.76'}\n",
      "{'_id': ObjectId('619f4be540352d46248c9267'), 'OrderDate': '1/5/2021', 'Region': 'East', 'City': 'Boston', 'Category': 'Bars', 'Product': 'Carrot', 'Quantity': '63', 'UnitPrice': '1.77', 'TotalPrice': '111.51'}\n",
      "{'_id': ObjectId('619f4be540352d46248c9268'), 'OrderDate': '1/8/2021', 'Region': 'East', 'City': 'Boston', 'Category': 'Snacks', 'Product': 'Pretzels', 'Quantity': '29', 'UnitPrice': '3.15', 'TotalPrice': '91.35'}\n",
      "{'_id': ObjectId('619f4be540352d46248c9269'), 'OrderDate': '1/11/2021', 'Region': 'West', 'City': 'Los Angeles', 'Category': 'Bars', 'Product': 'Bran', 'Quantity': '77', 'UnitPrice': '1.87', 'TotalPrice': '143.99'}\n",
      "{'_id': ObjectId('619f4be540352d46248c926a'), 'OrderDate': '1/14/2021', 'Region': 'West', 'City': 'Los Angeles', 'Category': 'Cookies', 'Product': 'Oatmeal Raisin', 'Quantity': '80', 'UnitPrice': '2.84', 'TotalPrice': '227.2'}\n",
      "{'_id': ObjectId('619f4be540352d46248c926b'), 'OrderDate': '1/17/2021', 'Region': 'East', 'City': 'New York', 'Category': 'Bars', 'Product': 'Carrot', 'Quantity': '102', 'UnitPrice': '1.77', 'TotalPrice': '180.54'}\n",
      "{'_id': ObjectId('619f4be540352d46248c926c'), 'OrderDate': '1/20/2021', 'Region': 'East', 'City': 'New York', 'Category': 'Crackers', 'Product': 'Whole Wheat', 'Quantity': '31', 'UnitPrice': '3.49', 'TotalPrice': '108.19'}\n",
      "{'_id': ObjectId('619f4be540352d46248c926d'), 'OrderDate': '1/23/2021', 'Region': 'West', 'City': 'San Diego', 'Category': 'Bars', 'Product': 'Carrot', 'Quantity': '56', 'UnitPrice': '1.77', 'TotalPrice': '99.12'}\n",
      "{'_id': ObjectId('619f4be540352d46248c926e'), 'OrderDate': '1/26/2021', 'Region': 'East', 'City': 'Boston', 'Category': 'Cookies', 'Product': 'Arrowroot', 'Quantity': '52', 'UnitPrice': '2.18', 'TotalPrice': '113.36'}\n",
      "{'_id': ObjectId('619f4be540352d46248c926f'), 'OrderDate': '1/29/2021', 'Region': 'East', 'City': 'Boston', 'Category': 'Bars', 'Product': 'Carrot', 'Quantity': '51', 'UnitPrice': '1.77', 'TotalPrice': '90.27'}\n",
      "{'_id': ObjectId('619f4be540352d46248c9270'), 'OrderDate': '2/1/2021', 'Region': 'East', 'City': 'Boston', 'Category': 'Snacks', 'Product': 'Potato Chips', 'Quantity': '24', 'UnitPrice': '1.68', 'TotalPrice': '40.32'}\n",
      "{'_id': ObjectId('619f4be540352d46248c9271'), 'OrderDate': '2/4/2021', 'Region': 'West', 'City': 'Los Angeles', 'Category': 'Cookies', 'Product': 'Arrowroot', 'Quantity': '58', 'UnitPrice': '2.18', 'TotalPrice': '126.44'}\n",
      "{'_id': ObjectId('619f4be540352d46248c9272'), 'OrderDate': '2/7/2021', 'Region': 'West', 'City': 'Los Angeles', 'Category': 'Cookies', 'Product': 'Chocolate Chip', 'Quantity': '34', 'UnitPrice': '1.87', 'TotalPrice': '63.58'}\n",
      "{'_id': ObjectId('619f4be540352d46248c9273'), 'OrderDate': '2/10/2021', 'Region': 'East', 'City': 'New York', 'Category': 'Bars', 'Product': 'Carrot', 'Quantity': '34', 'UnitPrice': '1.77', 'TotalPrice': '60.18'}\n",
      "{'_id': ObjectId('619f4be540352d46248c9274'), 'OrderDate': '2/13/2021', 'Region': 'East', 'City': 'New York', 'Category': 'Snacks', 'Product': 'Potato Chips', 'Quantity': '21', 'UnitPrice': '1.68', 'TotalPrice': '35.28'}\n",
      "{'_id': ObjectId('619f4be540352d46248c9275'), 'OrderDate': '2/16/2021', 'Region': 'West', 'City': 'San Diego', 'Category': 'Cookies', 'Product': 'Oatmeal Raisin', 'Quantity': '29', 'UnitPrice': '2.84', 'TotalPrice': '82.36'}\n",
      "{'_id': ObjectId('619f4be540352d46248c9276'), 'OrderDate': '2/19/2021', 'Region': 'East', 'City': 'Boston', 'Category': 'Bars', 'Product': 'Carrot', 'Quantity': '68', 'UnitPrice': '1.77', 'TotalPrice': '120.36'}\n",
      "{'_id': ObjectId('619f4be540352d46248c9277'), 'OrderDate': '2/22/2021', 'Region': 'East', 'City': 'Boston', 'Category': 'Snacks', 'Product': 'Pretzels', 'Quantity': '31', 'UnitPrice': '3.15', 'TotalPrice': '97.65'}\n",
      "{'_id': ObjectId('619f4be540352d46248c9278'), 'OrderDate': '2/25/2021', 'Region': 'West', 'City': 'Los Angeles', 'Category': 'Cookies', 'Product': 'Arrowroot', 'Quantity': '30', 'UnitPrice': '2.18', 'TotalPrice': '65.4'}\n",
      "{'_id': ObjectId('619f4be540352d46248c9279'), 'OrderDate': '2/28/2021', 'Region': 'West', 'City': 'Los Angeles', 'Category': 'Cookies', 'Product': 'Chocolate Chip', 'Quantity': '232', 'UnitPrice': '1.87', 'TotalPrice': '433.84'}\n",
      "{'_id': ObjectId('619f4be540352d46248c927a'), 'OrderDate': '3/2/2021', 'Region': 'East', 'City': 'New York', 'Category': 'Bars', 'Product': 'Bran', 'Quantity': '68', 'UnitPrice': '1.87', 'TotalPrice': '127.16'}\n",
      "{'_id': ObjectId('619f4be540352d46248c927b'), 'OrderDate': '3/5/2021', 'Region': 'East', 'City': 'New York', 'Category': 'Cookies', 'Product': 'Oatmeal Raisin', 'Quantity': '97', 'UnitPrice': '2.84', 'TotalPrice': '275.48'}\n",
      "{'_id': ObjectId('619f4be540352d46248c927c'), 'OrderDate': '3/8/2021', 'Region': 'West', 'City': 'San Diego', 'Category': 'Bars', 'Product': 'Bran', 'Quantity': '86', 'UnitPrice': '1.87', 'TotalPrice': '160.82'}\n",
      "{'_id': ObjectId('619f4be540352d46248c927d'), 'OrderDate': '3/11/2021', 'Region': 'West', 'City': 'San Diego', 'Category': 'Snacks', 'Product': 'Potato Chips', 'Quantity': '41', 'UnitPrice': '1.68', 'TotalPrice': '68.88'}\n",
      "{'_id': ObjectId('619f4be540352d46248c927e'), 'OrderDate': '3/14/2021', 'Region': 'East', 'City': 'Boston', 'Category': 'Bars', 'Product': 'Carrot', 'Quantity': '93', 'UnitPrice': '1.77', 'TotalPrice': '164.61'}\n",
      "{'_id': ObjectId('619f4be540352d46248c927f'), 'OrderDate': '3/17/2021', 'Region': 'East', 'City': 'Boston', 'Category': 'Snacks', 'Product': 'Potato Chips', 'Quantity': '47', 'UnitPrice': '1.68', 'TotalPrice': '78.96'}\n",
      "{'_id': ObjectId('619f4be540352d46248c9280'), 'OrderDate': '3/20/2021', 'Region': 'West', 'City': 'Los Angeles', 'Category': 'Bars', 'Product': 'Carrot', 'Quantity': '103', 'UnitPrice': '1.77', 'TotalPrice': '182.31'}\n",
      "{'_id': ObjectId('619f4be540352d46248c9281'), 'OrderDate': '3/23/2021', 'Region': 'West', 'City': 'Los Angeles', 'Category': 'Snacks', 'Product': 'Potato Chips', 'Quantity': '33', 'UnitPrice': '1.68', 'TotalPrice': '55.44'}\n",
      "{'_id': ObjectId('619f4be540352d46248c9282'), 'OrderDate': '3/26/2021', 'Region': 'East', 'City': 'New York', 'Category': 'Bars', 'Product': 'Bran', 'Quantity': '57', 'UnitPrice': '1.87', 'TotalPrice': '106.59'}\n",
      "{'_id': ObjectId('619f4be540352d46248c9283'), 'OrderDate': '3/29/2021', 'Region': 'East', 'City': 'New York', 'Category': 'Cookies', 'Product': 'Oatmeal Raisin', 'Quantity': '65', 'UnitPrice': '2.84', 'TotalPrice': '184.6'}\n",
      "{'_id': ObjectId('619f4be540352d46248c9284'), 'OrderDate': '4/1/2021', 'Region': 'West', 'City': 'San Diego', 'Category': 'Bars', 'Product': 'Carrot', 'Quantity': '118', 'UnitPrice': '1.77', 'TotalPrice': '208.86'}\n",
      "{'_id': ObjectId('619f4be540352d46248c9285'), 'OrderDate': '4/4/2021', 'Region': 'East', 'City': 'Boston', 'Category': 'Cookies', 'Product': 'Arrowroot', 'Quantity': '36', 'UnitPrice': '2.18', 'TotalPrice': '78.48'}\n",
      "{'_id': ObjectId('619f4be540352d46248c9286'), 'OrderDate': '4/7/2021', 'Region': 'East', 'City': 'Boston', 'Category': 'Cookies', 'Product': 'Oatmeal Raisin', 'Quantity': '123', 'UnitPrice': '2.84', 'TotalPrice': '349.32'}\n",
      "{'_id': ObjectId('619f4be540352d46248c9287'), 'OrderDate': '4/10/2021', 'Region': 'West', 'City': 'Los Angeles', 'Category': 'Bars', 'Product': 'Carrot', 'Quantity': '90', 'UnitPrice': '1.77', 'TotalPrice': '159.3'}\n",
      "{'_id': ObjectId('619f4be540352d46248c9288'), 'OrderDate': '4/13/2021', 'Region': 'West', 'City': 'Los Angeles', 'Category': 'Crackers', 'Product': 'Whole Wheat', 'Quantity': '21', 'UnitPrice': '3.49', 'TotalPrice': '73.29'}\n",
      "{'_id': ObjectId('619f4be540352d46248c9289'), 'OrderDate': '4/16/2021', 'Region': 'East', 'City': 'New York', 'Category': 'Bars', 'Product': 'Carrot', 'Quantity': '48', 'UnitPrice': '1.77', 'TotalPrice': '84.96'}\n",
      "{'_id': ObjectId('619f4be540352d46248c928a'), 'OrderDate': '4/19/2021', 'Region': 'East', 'City': 'New York', 'Category': 'Snacks', 'Product': 'Potato Chips', 'Quantity': '24', 'UnitPrice': '1.68', 'TotalPrice': '40.32'}\n",
      "{'_id': ObjectId('619f4be540352d46248c928b'), 'OrderDate': '4/22/2021', 'Region': 'West', 'City': 'San Diego', 'Category': 'Cookies', 'Product': 'Chocolate Chip', 'Quantity': '67', 'UnitPrice': '1.87', 'TotalPrice': '125.29'}\n",
      "{'_id': ObjectId('619f4be540352d46248c928c'), 'OrderDate': '4/25/2021', 'Region': 'East', 'City': 'Boston', 'Category': 'Bars', 'Product': 'Bran', 'Quantity': '27', 'UnitPrice': '1.87', 'TotalPrice': '50.49'}\n",
      "{'_id': ObjectId('619f4be540352d46248c928d'), 'OrderDate': '4/28/2021', 'Region': 'East', 'City': 'Boston', 'Category': 'Cookies', 'Product': 'Oatmeal Raisin', 'Quantity': '129', 'UnitPrice': '2.84', 'TotalPrice': '366.36'}\n",
      "{'_id': ObjectId('619f4be540352d46248c928e'), 'OrderDate': '5/1/2021', 'Region': 'West', 'City': 'Los Angeles', 'Category': 'Cookies', 'Product': 'Arrowroot', 'Quantity': '77', 'UnitPrice': '2.18', 'TotalPrice': '167.86'}\n",
      "{'_id': ObjectId('619f4be540352d46248c928f'), 'OrderDate': '5/4/2021', 'Region': 'West', 'City': 'Los Angeles', 'Category': 'Cookies', 'Product': 'Chocolate Chip', 'Quantity': '58', 'UnitPrice': '1.87', 'TotalPrice': '108.46'}\n",
      "{'_id': ObjectId('619f4be540352d46248c9290'), 'OrderDate': '5/7/2021', 'Region': 'East', 'City': 'New York', 'Category': 'Bars', 'Product': 'Bran', 'Quantity': '47', 'UnitPrice': '1.87', 'TotalPrice': '87.89'}\n",
      "{'_id': ObjectId('619f4be540352d46248c9291'), 'OrderDate': '5/10/2021', 'Region': 'East', 'City': 'New York', 'Category': 'Cookies', 'Product': 'Oatmeal Raisin', 'Quantity': '33', 'UnitPrice': '2.84', 'TotalPrice': '93.72'}\n",
      "{'_id': ObjectId('619f4be540352d46248c9292'), 'OrderDate': '5/13/2021', 'Region': 'West', 'City': 'San Diego', 'Category': 'Cookies', 'Product': 'Chocolate Chip', 'Quantity': '82', 'UnitPrice': '1.87', 'TotalPrice': '153.34'}\n",
      "{'_id': ObjectId('619f4be540352d46248c9293'), 'OrderDate': '5/16/2021', 'Region': 'East', 'City': 'Boston', 'Category': 'Bars', 'Product': 'Carrot', 'Quantity': '58', 'UnitPrice': '1.77', 'TotalPrice': '102.66'}\n",
      "{'_id': ObjectId('619f4be540352d46248c9294'), 'OrderDate': '5/19/2021', 'Region': 'East', 'City': 'Boston', 'Category': 'Snacks', 'Product': 'Pretzels', 'Quantity': '30', 'UnitPrice': '3.15', 'TotalPrice': '94.5'}\n",
      "{'_id': ObjectId('619f4be540352d46248c9295'), 'OrderDate': '5/22/2021', 'Region': 'West', 'City': 'Los Angeles', 'Category': 'Cookies', 'Product': 'Chocolate Chip', 'Quantity': '43', 'UnitPrice': '1.87', 'TotalPrice': '80.41'}\n",
      "{'_id': ObjectId('619f4be540352d46248c9296'), 'OrderDate': '5/25/2021', 'Region': 'East', 'City': 'New York', 'Category': 'Bars', 'Product': 'Carrot', 'Quantity': '84', 'UnitPrice': '1.77', 'TotalPrice': '148.68'}\n",
      "{'_id': ObjectId('619f4be540352d46248c9297'), 'OrderDate': '5/28/2021', 'Region': 'West', 'City': 'San Diego', 'Category': 'Cookies', 'Product': 'Arrowroot', 'Quantity': '36', 'UnitPrice': '2.18', 'TotalPrice': '78.48'}\n",
      "{'_id': ObjectId('619f4be540352d46248c9298'), 'OrderDate': '5/31/2021', 'Region': 'West', 'City': 'San Diego', 'Category': 'Cookies', 'Product': 'Oatmeal Raisin', 'Quantity': '44', 'UnitPrice': '2.84', 'TotalPrice': '124.96'}\n",
      "{'_id': ObjectId('619f4be540352d46248c9299'), 'OrderDate': '6/3/2021', 'Region': 'East', 'City': 'Boston', 'Category': 'Bars', 'Product': 'Bran', 'Quantity': '27', 'UnitPrice': '1.87', 'TotalPrice': '50.49'}\n",
      "{'_id': ObjectId('619f4be540352d46248c929a'), 'OrderDate': '6/6/2021', 'Region': 'East', 'City': 'Boston', 'Category': 'Cookies', 'Product': 'Oatmeal Raisin', 'Quantity': '120', 'UnitPrice': '2.84', 'TotalPrice': '340.8'}\n",
      "{'_id': ObjectId('619f4be540352d46248c929b'), 'OrderDate': '6/9/2021', 'Region': 'East', 'City': 'Boston', 'Category': 'Crackers', 'Product': 'Whole Wheat', 'Quantity': '26', 'UnitPrice': '3.49', 'TotalPrice': '90.74'}\n",
      "{'_id': ObjectId('619f4be540352d46248c929c'), 'OrderDate': '6/12/2021', 'Region': 'West', 'City': 'Los Angeles', 'Category': 'Bars', 'Product': 'Carrot', 'Quantity': '73', 'UnitPrice': '1.77', 'TotalPrice': '129.21'}\n",
      "{'_id': ObjectId('619f4be540352d46248c929d'), 'OrderDate': '6/15/2021', 'Region': 'East', 'City': 'New York', 'Category': 'Bars', 'Product': 'Bran', 'Quantity': '38', 'UnitPrice': '1.87', 'TotalPrice': '71.06'}\n",
      "{'_id': ObjectId('619f4be540352d46248c929e'), 'OrderDate': '6/18/2021', 'Region': 'East', 'City': 'New York', 'Category': 'Cookies', 'Product': 'Oatmeal Raisin', 'Quantity': '40', 'UnitPrice': '2.84', 'TotalPrice': '113.6'}\n",
      "{'_id': ObjectId('619f4be540352d46248c929f'), 'OrderDate': '6/21/2021', 'Region': 'West', 'City': 'San Diego', 'Category': 'Bars', 'Product': 'Carrot', 'Quantity': '41', 'UnitPrice': '1.77', 'TotalPrice': '72.57'}\n",
      "{'_id': ObjectId('619f4be540352d46248c92a0'), 'OrderDate': '6/24/2021', 'Region': 'East', 'City': 'Boston', 'Category': 'Bars', 'Product': 'Banana', 'Quantity': '27', 'UnitPrice': '2.27', 'TotalPrice': '61.29'}\n",
      "{'_id': ObjectId('619f4be540352d46248c92a1'), 'OrderDate': '6/27/2021', 'Region': 'East', 'City': 'Boston', 'Category': 'Cookies', 'Product': 'Chocolate Chip', 'Quantity': '38', 'UnitPrice': '1.87', 'TotalPrice': '71.06'}\n",
      "{'_id': ObjectId('619f4be540352d46248c92a2'), 'OrderDate': '6/30/2021', 'Region': 'East', 'City': 'Boston', 'Category': 'Crackers', 'Product': 'Whole Wheat', 'Quantity': '34', 'UnitPrice': '3.49', 'TotalPrice': '118.66'}\n",
      "{'_id': ObjectId('619f4be540352d46248c92a3'), 'OrderDate': '7/3/2021', 'Region': 'West', 'City': 'Los Angeles', 'Category': 'Bars', 'Product': 'Bran', 'Quantity': '65', 'UnitPrice': '1.87', 'TotalPrice': '121.55'}\n",
      "{'_id': ObjectId('619f4be540352d46248c92a4'), 'OrderDate': '7/6/2021', 'Region': 'West', 'City': 'Los Angeles', 'Category': 'Cookies', 'Product': 'Oatmeal Raisin', 'Quantity': '60', 'UnitPrice': '2.84', 'TotalPrice': '170.4'}\n",
      "{'_id': ObjectId('619f4be540352d46248c92a5'), 'OrderDate': '7/9/2021', 'Region': 'East', 'City': 'New York', 'Category': 'Cookies', 'Product': 'Arrowroot', 'Quantity': '37', 'UnitPrice': '2.18', 'TotalPrice': '80.66'}\n",
      "{'_id': ObjectId('619f4be540352d46248c92a6'), 'OrderDate': '7/12/2021', 'Region': 'East', 'City': 'New York', 'Category': 'Cookies', 'Product': 'Chocolate Chip', 'Quantity': '40', 'UnitPrice': '1.87', 'TotalPrice': '74.8'}\n",
      "{'_id': ObjectId('619f4be540352d46248c92a7'), 'OrderDate': '7/15/2021', 'Region': 'West', 'City': 'San Diego', 'Category': 'Bars', 'Product': 'Bran', 'Quantity': '26', 'UnitPrice': '1.87', 'TotalPrice': '48.62'}\n",
      "{'_id': ObjectId('619f4be540352d46248c92a8'), 'OrderDate': '7/18/2021', 'Region': 'East', 'City': 'Boston', 'Category': 'Bars', 'Product': 'Banana', 'Quantity': '22', 'UnitPrice': '2.27', 'TotalPrice': '49.94'}\n",
      "{'_id': ObjectId('619f4be540352d46248c92a9'), 'OrderDate': '7/21/2021', 'Region': 'East', 'City': 'Boston', 'Category': 'Cookies', 'Product': 'Chocolate Chip', 'Quantity': '32', 'UnitPrice': '1.87', 'TotalPrice': '59.84'}\n",
      "{'_id': ObjectId('619f4be540352d46248c92aa'), 'OrderDate': '7/24/2021', 'Region': 'East', 'City': 'Boston', 'Category': 'Crackers', 'Product': 'Whole Wheat', 'Quantity': '23', 'UnitPrice': '3.49', 'TotalPrice': '80.27'}\n",
      "{'_id': ObjectId('619f4be540352d46248c92ab'), 'OrderDate': '7/27/2021', 'Region': 'West', 'City': 'Los Angeles', 'Category': 'Cookies', 'Product': 'Arrowroot', 'Quantity': '20', 'UnitPrice': '2.18', 'TotalPrice': '43.6'}\n",
      "{'_id': ObjectId('619f4be540352d46248c92ac'), 'OrderDate': '7/30/2021', 'Region': 'West', 'City': 'Los Angeles', 'Category': 'Cookies', 'Product': 'Chocolate Chip', 'Quantity': '64', 'UnitPrice': '1.87', 'TotalPrice': '119.68'}\n",
      "{'_id': ObjectId('619f4be540352d46248c92ad'), 'OrderDate': '8/2/2021', 'Region': 'East', 'City': 'New York', 'Category': 'Bars', 'Product': 'Carrot', 'Quantity': '71', 'UnitPrice': '1.77', 'TotalPrice': '125.67'}\n",
      "{'_id': ObjectId('619f4be540352d46248c92ae'), 'OrderDate': '8/5/2021', 'Region': 'West', 'City': 'San Diego', 'Category': 'Cookies', 'Product': 'Arrowroot', 'Quantity': '90', 'UnitPrice': '2.18', 'TotalPrice': '196.2'}\n",
      "{'_id': ObjectId('619f4be540352d46248c92af'), 'OrderDate': '8/8/2021', 'Region': 'West', 'City': 'San Diego', 'Category': 'Cookies', 'Product': 'Oatmeal Raisin', 'Quantity': '38', 'UnitPrice': '2.84', 'TotalPrice': '107.92'}\n",
      "{'_id': ObjectId('619f4be540352d46248c92b0'), 'OrderDate': '8/11/2021', 'Region': 'East', 'City': 'Boston', 'Category': 'Bars', 'Product': 'Carrot', 'Quantity': '55', 'UnitPrice': '1.77', 'TotalPrice': '97.35'}\n",
      "{'_id': ObjectId('619f4be540352d46248c92b1'), 'OrderDate': '8/14/2021', 'Region': 'East', 'City': 'Boston', 'Category': 'Snacks', 'Product': 'Pretzels', 'Quantity': '22', 'UnitPrice': '3.15', 'TotalPrice': '69.3'}\n",
      "{'_id': ObjectId('619f4be540352d46248c92b2'), 'OrderDate': '8/17/2021', 'Region': 'West', 'City': 'Los Angeles', 'Category': 'Bars', 'Product': 'Carrot', 'Quantity': '34', 'UnitPrice': '1.77', 'TotalPrice': '60.18'}\n",
      "{'_id': ObjectId('619f4be540352d46248c92b3'), 'OrderDate': '8/20/2021', 'Region': 'East', 'City': 'New York', 'Category': 'Bars', 'Product': 'Bran', 'Quantity': '39', 'UnitPrice': '1.87', 'TotalPrice': '72.93'}\n",
      "{'_id': ObjectId('619f4be540352d46248c92b4'), 'OrderDate': '8/23/2021', 'Region': 'East', 'City': 'New York', 'Category': 'Cookies', 'Product': 'Oatmeal Raisin', 'Quantity': '41', 'UnitPrice': '2.84', 'TotalPrice': '116.44'}\n",
      "{'_id': ObjectId('619f4be540352d46248c92b5'), 'OrderDate': '8/26/2021', 'Region': 'West', 'City': 'San Diego', 'Category': 'Bars', 'Product': 'Carrot', 'Quantity': '41', 'UnitPrice': '1.77', 'TotalPrice': '72.57'}\n",
      "{'_id': ObjectId('619f4be540352d46248c92b6'), 'OrderDate': '8/29/2021', 'Region': 'East', 'City': 'Boston', 'Category': 'Cookies', 'Product': 'Arrowroot', 'Quantity': '136', 'UnitPrice': '2.18', 'TotalPrice': '296.48'}\n",
      "{'_id': ObjectId('619f4be540352d46248c92b7'), 'OrderDate': '9/1/2021', 'Region': 'East', 'City': 'Boston', 'Category': 'Bars', 'Product': 'Carrot', 'Quantity': '25', 'UnitPrice': '1.77', 'TotalPrice': '44.25'}\n",
      "{'_id': ObjectId('619f4be540352d46248c92b8'), 'OrderDate': '9/4/2021', 'Region': 'East', 'City': 'Boston', 'Category': 'Snacks', 'Product': 'Pretzels', 'Quantity': '26', 'UnitPrice': '3.15', 'TotalPrice': '81.9'}\n",
      "{'_id': ObjectId('619f4be540352d46248c92b9'), 'OrderDate': '9/7/2021', 'Region': 'West', 'City': 'Los Angeles', 'Category': 'Bars', 'Product': 'Bran', 'Quantity': '50', 'UnitPrice': '1.87', 'TotalPrice': '93.5'}\n",
      "{'_id': ObjectId('619f4be540352d46248c92ba'), 'OrderDate': '9/10/2021', 'Region': 'West', 'City': 'Los Angeles', 'Category': 'Cookies', 'Product': 'Oatmeal Raisin', 'Quantity': '79', 'UnitPrice': '2.84', 'TotalPrice': '224.36'}\n",
      "{'_id': ObjectId('619f4be540352d46248c92bb'), 'OrderDate': '9/13/2021', 'Region': 'East', 'City': 'New York', 'Category': 'Bars', 'Product': 'Carrot', 'Quantity': '30', 'UnitPrice': '1.77', 'TotalPrice': '53.1'}\n",
      "{'_id': ObjectId('619f4be540352d46248c92bc'), 'OrderDate': '9/16/2021', 'Region': 'East', 'City': 'New York', 'Category': 'Snacks', 'Product': 'Potato Chips', 'Quantity': '20', 'UnitPrice': '1.68', 'TotalPrice': '33.6'}\n",
      "{'_id': ObjectId('619f4be540352d46248c92bd'), 'OrderDate': '9/19/2021', 'Region': 'West', 'City': 'San Diego', 'Category': 'Bars', 'Product': 'Carrot', 'Quantity': '49', 'UnitPrice': '1.77', 'TotalPrice': '86.73'}\n",
      "{'_id': ObjectId('619f4be540352d46248c92be'), 'OrderDate': '9/22/2021', 'Region': 'East', 'City': 'Boston', 'Category': 'Cookies', 'Product': 'Arrowroot', 'Quantity': '40', 'UnitPrice': '2.18', 'TotalPrice': '87.2'}\n",
      "{'_id': ObjectId('619f4be540352d46248c92bf'), 'OrderDate': '9/25/2021', 'Region': 'East', 'City': 'Boston', 'Category': 'Bars', 'Product': 'Carrot', 'Quantity': '31', 'UnitPrice': '1.77', 'TotalPrice': '54.87'}\n",
      "{'_id': ObjectId('619f4be540352d46248c92c0'), 'OrderDate': '9/28/2021', 'Region': 'East', 'City': 'Boston', 'Category': 'Snacks', 'Product': 'Pretzels', 'Quantity': '21', 'UnitPrice': '3.15', 'TotalPrice': '66.15'}\n",
      "{'_id': ObjectId('619f4be540352d46248c92c1'), 'OrderDate': '10/1/2021', 'Region': 'West', 'City': 'Los Angeles', 'Category': 'Bars', 'Product': 'Bran', 'Quantity': '43', 'UnitPrice': '1.87', 'TotalPrice': '80.41'}\n",
      "{'_id': ObjectId('619f4be540352d46248c92c2'), 'OrderDate': '10/4/2021', 'Region': 'West', 'City': 'Los Angeles', 'Category': 'Cookies', 'Product': 'Oatmeal Raisin', 'Quantity': '47', 'UnitPrice': '2.84', 'TotalPrice': '133.48'}\n",
      "{'_id': ObjectId('619f4be540352d46248c92c3'), 'OrderDate': '10/7/2021', 'Region': 'East', 'City': 'New York', 'Category': 'Cookies', 'Product': 'Arrowroot', 'Quantity': '175', 'UnitPrice': '2.18', 'TotalPrice': '381.5'}\n",
      "{'_id': ObjectId('619f4be540352d46248c92c4'), 'OrderDate': '10/10/2021', 'Region': 'East', 'City': 'New York', 'Category': 'Cookies', 'Product': 'Chocolate Chip', 'Quantity': '23', 'UnitPrice': '1.87', 'TotalPrice': '43.01'}\n",
      "{'_id': ObjectId('619f4be540352d46248c92c5'), 'OrderDate': '10/13/2021', 'Region': 'West', 'City': 'San Diego', 'Category': 'Bars', 'Product': 'Carrot', 'Quantity': '40', 'UnitPrice': '1.77', 'TotalPrice': '70.8'}\n",
      "{'_id': ObjectId('619f4be540352d46248c92c6'), 'OrderDate': '10/16/2021', 'Region': 'East', 'City': 'Boston', 'Category': 'Cookies', 'Product': 'Arrowroot', 'Quantity': '87', 'UnitPrice': '2.18', 'TotalPrice': '189.66'}\n",
      "{'_id': ObjectId('619f4be540352d46248c92c7'), 'OrderDate': '10/19/2021', 'Region': 'East', 'City': 'Boston', 'Category': 'Bars', 'Product': 'Carrot', 'Quantity': '43', 'UnitPrice': '1.77', 'TotalPrice': '76.11'}\n",
      "{'_id': ObjectId('619f4be540352d46248c92c8'), 'OrderDate': '10/22/2021', 'Region': 'East', 'City': 'Boston', 'Category': 'Crackers', 'Product': 'Whole Wheat', 'Quantity': '30', 'UnitPrice': '3.49', 'TotalPrice': '104.7'}\n",
      "{'_id': ObjectId('619f4be540352d46248c92c9'), 'OrderDate': '10/25/2021', 'Region': 'West', 'City': 'Los Angeles', 'Category': 'Bars', 'Product': 'Carrot', 'Quantity': '35', 'UnitPrice': '1.77', 'TotalPrice': '61.95'}\n",
      "{'_id': ObjectId('619f4be540352d46248c92ca'), 'OrderDate': '10/28/2021', 'Region': 'East', 'City': 'New York', 'Category': 'Bars', 'Product': 'Bran', 'Quantity': '57', 'UnitPrice': '1.87', 'TotalPrice': '106.59'}\n",
      "{'_id': ObjectId('619f4be540352d46248c92cb'), 'OrderDate': '10/31/2021', 'Region': 'East', 'City': 'New York', 'Category': 'Snacks', 'Product': 'Potato Chips', 'Quantity': '25', 'UnitPrice': '1.68', 'TotalPrice': '42'}\n",
      "{'_id': ObjectId('619f4be540352d46248c92cc'), 'OrderDate': '11/3/2021', 'Region': 'West', 'City': 'San Diego', 'Category': 'Cookies', 'Product': 'Chocolate Chip', 'Quantity': '24', 'UnitPrice': '1.87', 'TotalPrice': '44.88'}\n",
      "{'_id': ObjectId('619f4be540352d46248c92cd'), 'OrderDate': '11/6/2021', 'Region': 'East', 'City': 'Boston', 'Category': 'Bars', 'Product': 'Bran', 'Quantity': '83', 'UnitPrice': '1.87', 'TotalPrice': '155.21'}\n",
      "{'_id': ObjectId('619f4be540352d46248c92ce'), 'OrderDate': '11/9/2021', 'Region': 'East', 'City': 'Boston', 'Category': 'Cookies', 'Product': 'Oatmeal Raisin', 'Quantity': '124', 'UnitPrice': '2.84', 'TotalPrice': '352.16'}\n",
      "{'_id': ObjectId('619f4be540352d46248c92cf'), 'OrderDate': '11/12/2021', 'Region': 'West', 'City': 'Los Angeles', 'Category': 'Bars', 'Product': 'Carrot', 'Quantity': '137', 'UnitPrice': '1.77', 'TotalPrice': '242.49'}\n",
      "{'_id': ObjectId('619f4be540352d46248c92d0'), 'OrderDate': '11/15/2021', 'Region': 'East', 'City': 'New York', 'Category': 'Cookies', 'Product': 'Arrowroot', 'Quantity': '146', 'UnitPrice': '2.18', 'TotalPrice': '318.28'}\n",
      "{'_id': ObjectId('619f4be540352d46248c92d1'), 'OrderDate': '11/18/2021', 'Region': 'East', 'City': 'New York', 'Category': 'Cookies', 'Product': 'Chocolate Chip', 'Quantity': '34', 'UnitPrice': '1.87', 'TotalPrice': '63.58'}\n",
      "{'_id': ObjectId('619f4be540352d46248c92d2'), 'OrderDate': '11/21/2021', 'Region': 'West', 'City': 'San Diego', 'Category': 'Bars', 'Product': 'Carrot', 'Quantity': '20', 'UnitPrice': '1.77', 'TotalPrice': '35.4'}\n",
      "{'_id': ObjectId('619f4be540352d46248c92d3'), 'OrderDate': '11/24/2021', 'Region': 'East', 'City': 'Boston', 'Category': 'Cookies', 'Product': 'Arrowroot', 'Quantity': '139', 'UnitPrice': '2.18', 'TotalPrice': '303.02'}\n",
      "{'_id': ObjectId('619f4be540352d46248c92d4'), 'OrderDate': '11/27/2021', 'Region': 'East', 'City': 'Boston', 'Category': 'Cookies', 'Product': 'Chocolate Chip', 'Quantity': '211', 'UnitPrice': '1.87', 'TotalPrice': '394.57'}\n",
      "{'_id': ObjectId('619f4be540352d46248c92d5'), 'OrderDate': '11/30/2021', 'Region': 'East', 'City': 'Boston', 'Category': 'Crackers', 'Product': 'Whole Wheat', 'Quantity': '20', 'UnitPrice': '3.49', 'TotalPrice': '69.8'}\n",
      "{'_id': ObjectId('619f4be540352d46248c92d6'), 'OrderDate': '12/3/2021', 'Region': 'West', 'City': 'Los Angeles', 'Category': 'Bars', 'Product': 'Bran', 'Quantity': '42', 'UnitPrice': '1.87', 'TotalPrice': '78.54'}\n",
      "{'_id': ObjectId('619f4be540352d46248c92d7'), 'OrderDate': '12/6/2021', 'Region': 'West', 'City': 'Los Angeles', 'Category': 'Cookies', 'Product': 'Oatmeal Raisin', 'Quantity': '100', 'UnitPrice': '2.84', 'TotalPrice': '284'}\n",
      "{'_id': ObjectId('619f4be540352d46248c92d8'), 'OrderDate': '12/9/2021', 'Region': 'East', 'City': 'New York', 'Category': 'Bars', 'Product': 'Carrot', 'Quantity': '38', 'UnitPrice': '1.77', 'TotalPrice': '67.26'}\n",
      "{'_id': ObjectId('619f4be540352d46248c92d9'), 'OrderDate': '12/12/2021', 'Region': 'East', 'City': 'New York', 'Category': 'Crackers', 'Product': 'Whole Wheat', 'Quantity': '25', 'UnitPrice': '3.49', 'TotalPrice': '87.25'}\n",
      "{'_id': ObjectId('619f4be540352d46248c92da'), 'OrderDate': '12/15/2021', 'Region': 'West', 'City': 'San Diego', 'Category': 'Cookies', 'Product': 'Chocolate Chip', 'Quantity': '96', 'UnitPrice': '1.87', 'TotalPrice': '179.52'}\n",
      "{'_id': ObjectId('619f4be540352d46248c92db'), 'OrderDate': '12/18/2021', 'Region': 'East', 'City': 'Boston', 'Category': 'Cookies', 'Product': 'Arrowroot', 'Quantity': '34', 'UnitPrice': '2.18', 'TotalPrice': '74.12'}\n",
      "{'_id': ObjectId('619f4be540352d46248c92dc'), 'OrderDate': '12/21/2021', 'Region': 'East', 'City': 'Boston', 'Category': 'Cookies', 'Product': 'Chocolate Chip', 'Quantity': '245', 'UnitPrice': '1.87', 'TotalPrice': '458.15'}\n",
      "{'_id': ObjectId('619f4be540352d46248c92dd'), 'OrderDate': '12/24/2021', 'Region': 'East', 'City': 'Boston', 'Category': 'Crackers', 'Product': 'Whole Wheat', 'Quantity': '30', 'UnitPrice': '3.49', 'TotalPrice': '104.7'}\n",
      "{'_id': ObjectId('619f4be540352d46248c92de'), 'OrderDate': '12/27/2021', 'Region': 'West', 'City': 'Los Angeles', 'Category': 'Bars', 'Product': 'Bran', 'Quantity': '30', 'UnitPrice': '1.87', 'TotalPrice': '56.1'}\n",
      "{'_id': ObjectId('619f4be540352d46248c92df'), 'OrderDate': '12/30/2021', 'Region': 'West', 'City': 'Los Angeles', 'Category': 'Cookies', 'Product': 'Oatmeal Raisin', 'Quantity': '44', 'UnitPrice': '2.84', 'TotalPrice': '124.96'}\n"
     ]
    }
   ],
   "source": [
    "#Getting All Documents \n",
    "\n",
    "for foodsales in db.fooddata.find({}):\n",
    "    print(foodsales)"
   ]
  },
  {
   "cell_type": "code",
   "execution_count": 75,
   "id": "e903fd30",
   "metadata": {},
   "outputs": [
    {
     "name": "stdout",
     "output_type": "stream",
     "text": [
      "{'_id': 'null', 'totalsales': 33325.58}\n"
     ]
    }
   ],
   "source": [
    "#totalsales of all product\n",
    "\n",
    "ts=db.fooddata.aggregate([{\"$group\":{\"_id\":\"null\",\"totalsales\":{\"$sum\":\"$TotalPrice\"}}}])\n",
    "\n",
    "for i in ts:\n",
    "    print(i)                                 "
   ]
  },
  {
   "cell_type": "code",
   "execution_count": 63,
   "id": "613e555e",
   "metadata": {},
   "outputs": [
    {
     "name": "stdout",
     "output_type": "stream",
     "text": [
      "{'_id': 'null', 'totalsales': 33325.58}\n"
     ]
    }
   ],
   "source": [
    "#total sales of product bars, cookies, crackers, snacks\n",
    "\n",
    "r=db.fooddata.aggregate([{\"$group\":{\"_id\":\"null\",\"totalsales\":{\"$sum\":\"$TotalPrice\"}}}])\n",
    "\n",
    "for i in r:\n",
    "    print(i)  \n"
   ]
  },
  {
   "cell_type": "code",
   "execution_count": 64,
   "id": "1a9b3aae",
   "metadata": {},
   "outputs": [
    {
     "name": "stdout",
     "output_type": "stream",
     "text": [
      "{'_id': None, 'TotalSales': 10535.57}\n"
     ]
    }
   ],
   "source": [
    "#total sales of product bars\n",
    "\n",
    "\n",
    "b=db.fooddata.aggregate( [\n",
    "   { \"$match\": { \"Category\": \"Bars\" } },\n",
    "   { \"$group\": { \"_id\": \"$Bars\", \"TotalSales\": { \"$sum\": \"$TotalPrice\" } } }\n",
    "] )\n",
    "\n",
    "for i in b:\n",
    "    print(i)  \n"
   ]
  },
  {
   "cell_type": "code",
   "execution_count": 67,
   "id": "7f060180",
   "metadata": {},
   "outputs": [
    {
     "name": "stdout",
     "output_type": "stream",
     "text": [
      "{'_id': None, 'sumQuantity': 5841}\n"
     ]
    }
   ],
   "source": [
    "#total sales of Quantity of product bars \n",
    "\n",
    "b=db.fooddata.aggregate( [\n",
    "   { \"$match\": { \"Category\": \"Bars\" } },\n",
    "   { \"$group\": { \"_id\": \"$Bars\", \"sumQuantity\": { \"$sum\": \"$Quantity\" } } }\n",
    "] )\n",
    "\n",
    "for i in b:\n",
    "    print(i) \n"
   ]
  },
  {
   "cell_type": "code",
   "execution_count": 68,
   "id": "098d2d6a",
   "metadata": {},
   "outputs": [
    {
     "name": "stdout",
     "output_type": "stream",
     "text": [
      "{'_id': None, 'Totalsales': 17212.41}\n"
     ]
    }
   ],
   "source": [
    "#total sales of product cookies, \n",
    "\n",
    "c=db.fooddata.aggregate( [\n",
    "   { \"$match\": { \"Category\": \"Cookies\" } },\n",
    "   { \"$group\": { \"_id\": \"$Cookies\", \"Totalsales\": { \"$sum\": \"$TotalPrice\" } } }\n",
    "] )\n",
    "\n",
    "for i in c:\n",
    "    print(i) \n"
   ]
  },
  {
   "cell_type": "code",
   "execution_count": 52,
   "id": "00654b6c",
   "metadata": {},
   "outputs": [
    {
     "name": "stdout",
     "output_type": "stream",
     "text": [
      "{'_id': 'Crackers', 'TotalSales': 3339.93}\n"
     ]
    }
   ],
   "source": [
    "#total sales of product crackers\n",
    "\n",
    "cr=db.fooddata.aggregate( [\n",
    "   { \"$match\": { \"Category\": \"Crackers\" } },\n",
    "   { \"$group\": { \"_id\": \"Crackers\", \"TotalSales\": { \"$sum\": \"$TotalPrice\" } } }\n",
    "] )\n",
    "\n",
    "for i in cr:\n",
    "    print(i) \n"
   ]
  },
  {
   "cell_type": "code",
   "execution_count": 70,
   "id": "cf3a9590",
   "metadata": {},
   "outputs": [
    {
     "name": "stdout",
     "output_type": "stream",
     "text": [
      "{'_id': 'Snacks', 'TotalSales': 2237.67}\n"
     ]
    }
   ],
   "source": [
    "#total sales of product Snacks\n",
    "\n",
    "sn=db.fooddata.aggregate( [\n",
    "   { \"$match\": { \"Category\": \"Snacks\" } },\n",
    "   { \"$group\": { \"_id\": \"Snacks\", \"TotalSales\": { \"$sum\": \"$TotalPrice\" } } }\n",
    "] )\n",
    "\n",
    "for i in sn:\n",
    "    print(i) "
   ]
  },
  {
   "cell_type": "code",
   "execution_count": 50,
   "id": "0e5ca95d",
   "metadata": {},
   "outputs": [
    {
     "name": "stdout",
     "output_type": "stream",
     "text": [
      "{'_id': 'Snacks', 'sumTotalPrice': 2237.67}\n",
      "{'_id': 'Bars', 'sumTotalPrice': 10535.57}\n",
      "{'_id': 'Crackers', 'sumTotalPrice': 3339.93}\n",
      "{'_id': 'Cookies', 'sumTotalPrice': 17212.41}\n"
     ]
    }
   ],
   "source": [
    "#9.total sales of Category bars, cookies, crackers, snacks\n",
    "\n",
    "c=[\"Snacks\",\"Bars\",\"Crackers\",\"Cookies\"]\n",
    "for i in c:\n",
    "    b=db.fooddata.aggregate([{\"$match\":{\"Category\":i}},{\"$group\":{\"_id\":i,\"sumTotalPrice\":{\"$sum\":\"$TotalPrice\"}}}])\n",
    "    for j in b:\n",
    "        print(j)"
   ]
  },
  {
   "cell_type": "code",
   "execution_count": 71,
   "id": "7c5611da",
   "metadata": {},
   "outputs": [
    {
     "name": "stdout",
     "output_type": "stream",
     "text": [
      "{'_id': 'Banana', 'sumTotalPrice': 179.32999999999998}\n",
      "{'_id': 'Pretzels', 'sumTotalPrice': 585.9}\n",
      "{'_id': 'Potato Chips', 'sumTotalPrice': 1651.77}\n",
      "{'_id': 'Bran', 'sumTotalPrice': 2945.25}\n",
      "{'_id': 'Whole Wheat', 'sumTotalPrice': 3339.93}\n",
      "{'_id': 'Chocolate Chip', 'sumTotalPrice': 4572.15}\n",
      "{'_id': 'Arrowroot', 'sumTotalPrice': 5330.1}\n",
      "{'_id': 'Oatmeal Raisin', 'sumTotalPrice': 7310.16}\n",
      "{'_id': 'Carrot', 'sumTotalPrice': 7410.99}\n"
     ]
    }
   ],
   "source": [
    "#9.total sales of Product Banana, Pretzels, Potato Chips, Bran, Whole Wheat, Chocolate Chip, Arrowroot,Oatmeal Raisin\n",
    "#Carrot\n",
    "\n",
    "\n",
    "p=[\"Banana\",\"Pretzels\",\"Potato Chips\",\"Bran\",\"Whole Wheat\",\"Chocolate Chip\",\"Arrowroot\",\"Oatmeal Raisin\",\"Carrot\"]\n",
    "for i in p:\n",
    "    b=db.fooddata.aggregate([{\"$match\":{\"Product\":i}},{\"$group\":{\"_id\":i,\"sumTotalPrice\":{\"$sum\":\"$TotalPrice\"}}}])\n",
    "    for j in b:\n",
    "        print(j)"
   ]
  },
  {
   "cell_type": "code",
   "execution_count": 72,
   "id": "8f4b6e4b",
   "metadata": {},
   "outputs": [
    {
     "name": "stdout",
     "output_type": "stream",
     "text": [
      "{'_id': 'Bars', 'sumTotalPrice': 10535.57}\n",
      "{'_id': 'Cookies', 'sumTotalPrice': 17212.41}\n",
      "{'_id': 'Crackers', 'sumTotalPrice': 3339.93}\n",
      "{'_id': 'Snacks', 'sumTotalPrice': 2237.67}\n"
     ]
    }
   ],
   "source": [
    "#category wise sales\n",
    "\n",
    "\n",
    "c=db.fooddata.distinct(\"Category\")\n",
    "for i in c:\n",
    "    \n",
    "    b=db.fooddata.aggregate([{\"$match\":{\"Category\":i}},{\"$group\":{\"_id\":i,\"sumTotalPrice\":{\"$sum\":\"$TotalPrice\"}}}])\n",
    "    for j in b:\n",
    "        print(j)"
   ]
  },
  {
   "cell_type": "code",
   "execution_count": 12,
   "id": "16d26bb2",
   "metadata": {},
   "outputs": [
    {
     "name": "stdout",
     "output_type": "stream",
     "text": [
      "{'_id': 'Arrowroot', 'sumTotalPrice': 5330.1}\n",
      "{'_id': 'Banana', 'sumTotalPrice': 179.32999999999998}\n",
      "{'_id': 'Bran', 'sumTotalPrice': 2945.25}\n",
      "{'_id': 'Carrot', 'sumTotalPrice': 7410.99}\n",
      "{'_id': 'Chocolate Chip', 'sumTotalPrice': 4572.15}\n",
      "{'_id': 'Oatmeal Raisin', 'sumTotalPrice': 7310.16}\n",
      "{'_id': 'Potato Chips', 'sumTotalPrice': 1651.77}\n",
      "{'_id': 'Pretzels', 'sumTotalPrice': 585.9}\n",
      "{'_id': 'Whole Wheat', 'sumTotalPrice': 3339.93}\n"
     ]
    }
   ],
   "source": [
    "# Total sales of each product  #product wise sales\n",
    "\n",
    "c=db.fooddata.distinct(\"Product\")\n",
    "for i in c:\n",
    "    \n",
    "    b=db.fooddata.aggregate([{\"$match\":{\"Product\":i}},{\"$group\":{\"_id\":i,\"sumTotalPrice\":{\"$sum\":\"$TotalPrice\"}}}])\n",
    "    for j in b:\n",
    "        print(j)\n",
    "\n"
   ]
  },
  {
   "cell_type": "code",
   "execution_count": 11,
   "id": "1d1ba083",
   "metadata": {},
   "outputs": [
    {
     "name": "stdout",
     "output_type": "stream",
     "text": [
      "{'_id': 'null', 'avgsales': 136.58024590163936}\n"
     ]
    }
   ],
   "source": [
    "# average revenue\n",
    "\n",
    "\n",
    "r=db.fooddata.aggregate([{\"$group\":{\"_id\":\"null\",\"avgsales\":{\"$avg\":\"$TotalPrice\"}}}])\n",
    "\n",
    "for i in r:\n",
    "    print(i)"
   ]
  },
  {
   "cell_type": "code",
   "execution_count": 13,
   "id": "572b9499",
   "metadata": {},
   "outputs": [
    {
     "name": "stdout",
     "output_type": "stream",
     "text": [
      "{'_id': 'East', 'Total Revenue': 21524.36}\n",
      "{'_id': 'West', 'Total Revenue': 11801.22}\n"
     ]
    }
   ],
   "source": [
    "#Total revenue generated region wise in both years\n",
    "\n",
    "r=db.fooddata.distinct(\"Region\")\n",
    "for i in r:\n",
    "    b=db.fooddata.aggregate([{\"$match\":{\"Region\":i}},{\"$group\":{\"_id\":i,\"Total Revenue\":{\"$sum\":\"$TotalPrice\"}}}])\n",
    "    for j in b:\n",
    "        print(j)"
   ]
  },
  {
   "cell_type": "code",
   "execution_count": 14,
   "id": "3611c3b9",
   "metadata": {},
   "outputs": [
    {
     "name": "stdout",
     "output_type": "stream",
     "text": [
      "{'_id': 'East', 'maximum Revenue': 548.12}\n",
      "{'_id': 'West', 'maximum Revenue': 817.92}\n"
     ]
    }
   ],
   "source": [
    "# Max revenue generated on east and west \n",
    "\n",
    "r=db.fooddata.distinct(\"Region\")\n",
    "for i in r:\n",
    "    s = db.fooddata.aggregate([{\"$match\":{\"Region\":i}},{\"$group\":{\"_id\":i,\"maximum Revenue\":{\"$max\":\"$TotalPrice\"}}}])\n",
    "    for j in s:\n",
    "        print(j)"
   ]
  },
  {
   "cell_type": "code",
   "execution_count": 15,
   "id": "2e18201c",
   "metadata": {},
   "outputs": [
    {
     "name": "stdout",
     "output_type": "stream",
     "text": [
      "{'_id': 'East', 'minimum Revenue': 33.6}\n",
      "{'_id': 'West', 'minimum Revenue': 35.4}\n"
     ]
    }
   ],
   "source": [
    "# Min revenue generated on east and west \n",
    "\n",
    "r=db.fooddata.distinct(\"Region\")\n",
    "for i in r:\n",
    "    s = db.fooddata.aggregate([{\"$match\":{\"Region\":i}},{\"$group\":{\"_id\":i,\"minimum Revenue\":{\"$min\":\"$TotalPrice\"}}}])\n",
    "    for j in s:\n",
    "        print(j)"
   ]
  },
  {
   "cell_type": "code",
   "execution_count": 16,
   "id": "a0fa9ba5",
   "metadata": {},
   "outputs": [
    {
     "name": "stdout",
     "output_type": "stream",
     "text": [
      "{'_id': 'Boston', 'Totalsales': 13265.53}\n",
      "{'_id': 'Los Angeles', 'Totalsales': 7687.32}\n",
      "{'_id': 'New York', 'Totalsales': 8258.83}\n",
      "{'_id': 'San Diego', 'Totalsales': 4113.9}\n"
     ]
    }
   ],
   "source": [
    "#  city wise sales\n",
    "\n",
    "c=db.fooddata.distinct(\"City\")\n",
    "for i in c:\n",
    "    \n",
    "    b=db.fooddata.aggregate([{\"$match\":{\"City\":i}},{\"$group\":{\"_id\":i,\"Totalsales\":{\"$sum\":\"$TotalPrice\"}}}])\n",
    "    for j in b:\n",
    "        print(j)"
   ]
  },
  {
   "cell_type": "code",
   "execution_count": 17,
   "id": "bb027daf",
   "metadata": {},
   "outputs": [
    {
     "name": "stdout",
     "output_type": "stream",
     "text": [
      "Boston\n",
      "{'_id': 'Arrowroot', 'sumTotalPrice': 1918.4}\n",
      "{'_id': 'Banana', 'sumTotalPrice': 179.32999999999998}\n",
      "{'_id': 'Bran', 'sumTotalPrice': 873.29}\n",
      "{'_id': 'Carrot', 'sumTotalPrice': 2267.37}\n",
      "{'_id': 'Chocolate Chip', 'sumTotalPrice': 1200.54}\n",
      "{'_id': 'Oatmeal Raisin', 'sumTotalPrice': 3362.56}\n",
      "{'_id': 'Potato Chips', 'sumTotalPrice': 344.4}\n",
      "{'_id': 'Pretzels', 'sumTotalPrice': 585.9}\n",
      "{'_id': 'Whole Wheat', 'sumTotalPrice': 2533.74}\n",
      "Los Angeles\n",
      "{'_id': 'Arrowroot', 'sumTotalPrice': 403.3}\n",
      "{'_id': 'Bran', 'sumTotalPrice': 652.63}\n",
      "{'_id': 'Carrot', 'sumTotalPrice': 2233.74}\n",
      "{'_id': 'Chocolate Chip', 'sumTotalPrice': 1565.19}\n",
      "{'_id': 'Oatmeal Raisin', 'sumTotalPrice': 2076.04}\n",
      "{'_id': 'Potato Chips', 'sumTotalPrice': 609.84}\n",
      "{'_id': 'Whole Wheat', 'sumTotalPrice': 146.58}\n",
      "New York\n",
      "{'_id': 'Arrowroot', 'sumTotalPrice': 2025.2199999999998}\n",
      "{'_id': 'Bran', 'sumTotalPrice': 1052.81}\n",
      "{'_id': 'Carrot', 'sumTotalPrice': 1982.4}\n",
      "{'_id': 'Chocolate Chip', 'sumTotalPrice': 878.9}\n",
      "{'_id': 'Oatmeal Raisin', 'sumTotalPrice': 1297.88}\n",
      "{'_id': 'Potato Chips', 'sumTotalPrice': 529.53}\n",
      "{'_id': 'Whole Wheat', 'sumTotalPrice': 492.09000000000003}\n",
      "San Diego\n",
      "{'_id': 'Arrowroot', 'sumTotalPrice': 983.18}\n",
      "{'_id': 'Bran', 'sumTotalPrice': 366.52}\n",
      "{'_id': 'Carrot', 'sumTotalPrice': 927.48}\n",
      "{'_id': 'Chocolate Chip', 'sumTotalPrice': 927.52}\n",
      "{'_id': 'Oatmeal Raisin', 'sumTotalPrice': 573.68}\n",
      "{'_id': 'Potato Chips', 'sumTotalPrice': 168.0}\n",
      "{'_id': 'Whole Wheat', 'sumTotalPrice': 167.51999999999998}\n"
     ]
    }
   ],
   "source": [
    "# city wise product sales\n",
    "\n",
    "c=db.fooddata.distinct(\"City\")\n",
    "p=db.fooddata.distinct(\"Product\")\n",
    "for i in c:\n",
    "    print(i)\n",
    "    for j in p:\n",
    "        \n",
    "        b=db.fooddata.aggregate([{\"$match\":{\"$and\":[{\"City\":i},{\"Product\":j}]}},{\"$group\":{\"_id\":j,\"sumTotalPrice\":{\"$sum\":\"$TotalPrice\"}}}])\n",
    "        for j in b:\n",
    "            print(j)"
   ]
  },
  {
   "cell_type": "code",
   "execution_count": 18,
   "id": "17bf2b8b",
   "metadata": {},
   "outputs": [
    {
     "name": "stdout",
     "output_type": "stream",
     "text": [
      "{'_id': {'pid': 'Arrowroot', 'Category': 'Cookies', 'maxprice': 516.66}}\n",
      "{'_id': {'pid': 'Potato Chips', 'Category': 'Snacks', 'maxprice': 42.0}}\n",
      "{'_id': {'pid': 'Carrot', 'Category': 'Bars', 'maxprice': 159.3}}\n",
      "{'_id': {'pid': 'Oatmeal Raisin', 'Category': 'Cookies', 'maxprice': 107.92}}\n",
      "{'_id': {'pid': 'Bran', 'Category': 'Bars', 'maxprice': 140.25}}\n",
      "{'_id': {'pid': 'Carrot', 'Category': 'Bars', 'maxprice': 72.57}}\n",
      "{'_id': {'pid': 'Pretzels', 'Category': 'Snacks', 'maxprice': 91.35}}\n",
      "{'_id': {'pid': 'Oatmeal Raisin', 'Category': 'Cookies', 'maxprice': 133.48}}\n",
      "{'_id': {'pid': 'Carrot', 'Category': 'Bars', 'maxprice': 132.75}}\n",
      "{'_id': {'pid': 'Chocolate Chip', 'Category': 'Cookies', 'maxprice': 67.32}}\n",
      "{'_id': {'pid': 'Carrot', 'Category': 'Bars', 'maxprice': 253.11}}\n",
      "{'_id': {'pid': 'Bran', 'Category': 'Bars', 'maxprice': 80.41}}\n",
      "{'_id': {'pid': 'Bran', 'Category': 'Bars', 'maxprice': 71.06}}\n",
      "{'_id': {'pid': 'Oatmeal Raisin', 'Category': 'Cookies', 'maxprice': 184.6}}\n",
      "{'_id': {'pid': 'Whole Wheat', 'Category': 'Crackers', 'maxprice': 80.27}}\n",
      "{'_id': {'pid': 'Arrowroot', 'Category': 'Cookies', 'maxprice': 239.8}}\n",
      "{'_id': {'pid': 'Chocolate Chip', 'Category': 'Cookies', 'maxprice': 59.84}}\n",
      "{'_id': {'pid': 'Carrot', 'Category': 'Bars', 'maxprice': 76.11}}\n",
      "{'_id': {'pid': 'Carrot', 'Category': 'Bars', 'maxprice': 240.72}}\n",
      "{'_id': {'pid': 'Carrot', 'Category': 'Bars', 'maxprice': 208.86}}\n",
      "{'_id': {'pid': 'Oatmeal Raisin', 'Category': 'Cookies', 'maxprice': 275.48}}\n",
      "{'_id': {'pid': 'Carrot', 'Category': 'Bars', 'maxprice': 53.1}}\n",
      "{'_id': {'pid': 'Chocolate Chip', 'Category': 'Cookies', 'maxprice': 458.15}}\n",
      "{'_id': {'pid': 'Bran', 'Category': 'Bars', 'maxprice': 134.64}}\n",
      "{'_id': {'pid': 'Bran', 'Category': 'Bars', 'maxprice': 50.49}}\n",
      "{'_id': {'pid': 'Whole Wheat', 'Category': 'Crackers', 'maxprice': 108.19}}\n",
      "{'_id': {'pid': 'Chocolate Chip', 'Category': 'Cookies', 'maxprice': 433.84}}\n",
      "{'_id': {'pid': 'Whole Wheat', 'Category': 'Crackers', 'maxprice': 69.8}}\n",
      "{'_id': {'pid': 'Whole Wheat', 'Category': 'Crackers', 'maxprice': 104.7}}\n",
      "{'_id': {'pid': 'Potato Chips', 'Category': 'Snacks', 'maxprice': 114.24}}\n",
      "{'_id': {'pid': 'Oatmeal Raisin', 'Category': 'Cookies', 'maxprice': 548.12}}\n",
      "{'_id': {'pid': 'Chocolate Chip', 'Category': 'Cookies', 'maxprice': 153.34}}\n",
      "{'_id': {'pid': 'Arrowroot', 'Category': 'Cookies', 'maxprice': 224.54}}\n",
      "{'_id': {'pid': 'Carrot', 'Category': 'Bars', 'maxprice': 182.31}}\n",
      "{'_id': {'pid': 'Potato Chips', 'Category': 'Snacks', 'maxprice': 107.52}}\n",
      "{'_id': {'pid': 'Potato Chips', 'Category': 'Snacks', 'maxprice': 48.72}}\n",
      "{'_id': {'pid': 'Arrowroot', 'Category': 'Cookies', 'maxprice': 69.76}}\n",
      "{'_id': {'pid': 'Oatmeal Raisin', 'Category': 'Cookies', 'maxprice': 85.2}}\n",
      "{'_id': {'pid': 'Bran', 'Category': 'Bars', 'maxprice': 48.62}}\n",
      "{'_id': {'pid': 'Carrot', 'Category': 'Bars', 'maxprice': 177.0}}\n",
      "{'_id': {'pid': 'Carrot', 'Category': 'Bars', 'maxprice': 67.26}}\n",
      "{'_id': {'pid': 'Banana', 'Category': 'Bars', 'maxprice': 68.1}}\n",
      "{'_id': {'pid': 'Carrot', 'Category': 'Bars', 'maxprice': 99.12}}\n",
      "{'_id': {'pid': 'Carrot', 'Category': 'Bars', 'maxprice': 541.62}}\n",
      "{'_id': {'pid': 'Carrot', 'Category': 'Bars', 'maxprice': 44.25}}\n",
      "{'_id': {'pid': 'Whole Wheat', 'Category': 'Crackers', 'maxprice': 115.17}}\n",
      "{'_id': {'pid': 'Carrot', 'Category': 'Bars', 'maxprice': 180.54}}\n",
      "{'_id': {'pid': 'Pretzels', 'Category': 'Snacks', 'maxprice': 97.65}}\n",
      "{'_id': {'pid': 'Chocolate Chip', 'Category': 'Cookies', 'maxprice': 74.8}}\n",
      "{'_id': {'pid': 'Oatmeal Raisin', 'Category': 'Cookies', 'maxprice': 116.44}}\n",
      "{'_id': {'pid': 'Carrot', 'Category': 'Bars', 'maxprice': 86.73}}\n",
      "{'_id': {'pid': 'Bran', 'Category': 'Bars', 'maxprice': 61.71}}\n",
      "{'_id': {'pid': 'Chocolate Chip', 'Category': 'Cookies', 'maxprice': 44.88}}\n",
      "{'_id': {'pid': 'Bran', 'Category': 'Bars', 'maxprice': 56.1}}\n",
      "{'_id': {'pid': 'Potato Chips', 'Category': 'Snacks', 'maxprice': 36.45}}\n",
      "{'_id': {'pid': 'Whole Wheat', 'Category': 'Crackers', 'maxprice': 87.25}}\n",
      "{'_id': {'pid': 'Pretzels', 'Category': 'Snacks', 'maxprice': 85.05}}\n",
      "{'_id': {'pid': 'Bran', 'Category': 'Bars', 'maxprice': 196.35}}\n",
      "{'_id': {'pid': 'Carrot', 'Category': 'Bars', 'maxprice': 120.36}}\n",
      "{'_id': {'pid': 'Arrowroot', 'Category': 'Cookies', 'maxprice': 113.36}}\n",
      "{'_id': {'pid': 'Arrowroot', 'Category': 'Cookies', 'maxprice': 61.04}}\n",
      "{'_id': {'pid': 'Oatmeal Raisin', 'Category': 'Cookies', 'maxprice': 113.6}}\n",
      "{'_id': {'pid': 'Arrowroot', 'Category': 'Cookies', 'maxprice': 58.86}}\n",
      "{'_id': {'pid': 'Potato Chips', 'Category': 'Snacks', 'maxprice': 104.16}}\n",
      "{'_id': {'pid': 'Whole Wheat', 'Category': 'Crackers', 'maxprice': 97.72}}\n",
      "{'_id': {'pid': 'Arrowroot', 'Category': 'Cookies', 'maxprice': 167.86}}\n",
      "{'_id': {'pid': 'Banana', 'Category': 'Bars', 'maxprice': 61.29}}\n",
      "{'_id': {'pid': 'Carrot', 'Category': 'Bars', 'maxprice': 136.29}}\n",
      "{'_id': {'pid': 'Bran', 'Category': 'Bars', 'maxprice': 106.59}}\n",
      "{'_id': {'pid': 'Whole Wheat', 'Category': 'Crackers', 'maxprice': 118.66}}\n",
      "{'_id': {'pid': 'Chocolate Chip', 'Category': 'Cookies', 'maxprice': 43.01}}\n",
      "{'_id': {'pid': 'Bran', 'Category': 'Bars', 'maxprice': 123.42}}\n",
      "{'_id': {'pid': 'Arrowroot', 'Category': 'Cookies', 'maxprice': 93.74}}\n",
      "{'_id': {'pid': 'Bran', 'Category': 'Bars', 'maxprice': 143.99}}\n",
      "{'_id': {'pid': 'Bran', 'Category': 'Bars', 'maxprice': 121.55}}\n",
      "{'_id': {'pid': 'Oatmeal Raisin', 'Category': 'Cookies', 'maxprice': 170.4}}\n",
      "{'_id': {'pid': 'Bran', 'Category': 'Bars', 'maxprice': 95.37}}\n",
      "{'_id': {'pid': 'Carrot', 'Category': 'Bars', 'maxprice': 60.18}}\n",
      "{'_id': {'pid': 'Chocolate Chip', 'Category': 'Cookies', 'maxprice': 158.95}}\n",
      "{'_id': {'pid': 'Carrot', 'Category': 'Bars', 'maxprice': 161.07}}\n",
      "{'_id': {'pid': 'Potato Chips', 'Category': 'Snacks', 'maxprice': 40.32}}\n",
      "{'_id': {'pid': 'Whole Wheat', 'Category': 'Crackers', 'maxprice': 73.29}}\n",
      "{'_id': {'pid': 'Carrot', 'Category': 'Bars', 'maxprice': 93.81}}\n",
      "{'_id': {'pid': 'Oatmeal Raisin', 'Category': 'Cookies', 'maxprice': 227.2}}\n",
      "{'_id': {'pid': 'Carrot', 'Category': 'Bars', 'maxprice': 102.66}}\n",
      "{'_id': {'pid': 'Carrot', 'Category': 'Bars', 'maxprice': 92.04}}\n",
      "{'_id': {'pid': 'Carrot', 'Category': 'Bars', 'maxprice': 42.48}}\n",
      "{'_id': {'pid': 'Arrowroot', 'Category': 'Cookies', 'maxprice': 303.02}}\n",
      "{'_id': {'pid': 'Bran', 'Category': 'Bars', 'maxprice': 93.5}}\n",
      "{'_id': {'pid': 'Potato Chips', 'Category': 'Snacks', 'maxprice': 82.32}}\n",
      "{'_id': {'pid': 'Arrowroot', 'Category': 'Cookies', 'maxprice': 381.5}}\n",
      "{'_id': {'pid': 'Chocolate Chip', 'Category': 'Cookies', 'maxprice': 394.57}}\n",
      "{'_id': {'pid': 'Carrot', 'Category': 'Bars', 'maxprice': 54.87}}\n",
      "{'_id': {'pid': 'Arrowroot', 'Category': 'Cookies', 'maxprice': 74.12}}\n",
      "{'_id': {'pid': 'Carrot', 'Category': 'Bars', 'maxprice': 125.67}}\n",
      "{'_id': {'pid': 'Carrot', 'Category': 'Bars', 'maxprice': 79.65}}\n",
      "{'_id': {'pid': 'Potato Chips', 'Category': 'Snacks', 'maxprice': 37.8}}\n",
      "{'_id': {'pid': 'Carrot', 'Category': 'Bars', 'maxprice': 148.68}}\n",
      "{'_id': {'pid': 'Carrot', 'Category': 'Bars', 'maxprice': 97.35}}\n",
      "{'_id': {'pid': 'Bran', 'Category': 'Bars', 'maxprice': 104.72}}\n",
      "{'_id': {'pid': 'Chocolate Chip', 'Category': 'Cookies', 'maxprice': 72.93}}\n",
      "{'_id': {'pid': 'Carrot', 'Category': 'Bars', 'maxprice': 58.41}}\n",
      "{'_id': {'pid': 'Whole Wheat', 'Category': 'Crackers', 'maxprice': 139.6}}\n",
      "{'_id': {'pid': 'Carrot', 'Category': 'Bars', 'maxprice': 69.03}}\n",
      "{'_id': {'pid': 'Oatmeal Raisin', 'Category': 'Cookies', 'maxprice': 349.32}}\n",
      "{'_id': {'pid': 'Oatmeal Raisin', 'Category': 'Cookies', 'maxprice': 82.36}}\n",
      "{'_id': {'pid': 'Pretzels', 'Category': 'Snacks', 'maxprice': 81.9}}\n",
      "{'_id': {'pid': 'Pretzels', 'Category': 'Snacks', 'maxprice': 66.15}}\n",
      "{'_id': {'pid': 'Pretzels', 'Category': 'Snacks', 'maxprice': 94.5}}\n",
      "{'_id': {'pid': 'Arrowroot', 'Category': 'Cookies', 'maxprice': 196.2}}\n",
      "{'_id': {'pid': 'Chocolate Chip', 'Category': 'Cookies', 'maxprice': 142.12}}\n",
      "{'_id': {'pid': 'Oatmeal Raisin', 'Category': 'Cookies', 'maxprice': 366.36}}\n",
      "{'_id': {'pid': 'Chocolate Chip', 'Category': 'Cookies', 'maxprice': 57.97}}\n",
      "{'_id': {'pid': 'Arrowroot', 'Category': 'Cookies', 'maxprice': 82.84}}\n",
      "{'_id': {'pid': 'Oatmeal Raisin', 'Category': 'Cookies', 'maxprice': 340.8}}\n",
      "{'_id': {'pid': 'Chocolate Chip', 'Category': 'Cookies', 'maxprice': 121.55}}\n",
      "{'_id': {'pid': 'Chocolate Chip', 'Category': 'Cookies', 'maxprice': 71.06}}\n",
      "{'_id': {'pid': 'Oatmeal Raisin', 'Category': 'Cookies', 'maxprice': 93.72}}\n",
      "{'_id': {'pid': 'Potato Chips', 'Category': 'Snacks', 'maxprice': 33.6}}\n",
      "{'_id': {'pid': 'Chocolate Chip', 'Category': 'Cookies', 'maxprice': 179.52}}\n",
      "{'_id': {'pid': 'Chocolate Chip', 'Category': 'Cookies', 'maxprice': 140.25}}\n",
      "{'_id': {'pid': 'Carrot', 'Category': 'Bars', 'maxprice': 235.41}}\n",
      "{'_id': {'pid': 'Chocolate Chip', 'Category': 'Cookies', 'maxprice': 108.46}}\n",
      "{'_id': {'pid': 'Potato Chips', 'Category': 'Snacks', 'maxprice': 35.28}}\n",
      "{'_id': {'pid': 'Potato Chips', 'Category': 'Snacks', 'maxprice': 225.12}}\n",
      "{'_id': {'pid': 'Whole Wheat', 'Category': 'Crackers', 'maxprice': 90.74}}\n",
      "{'_id': {'pid': 'Carrot', 'Category': 'Bars', 'maxprice': 90.27}}\n",
      "{'_id': {'pid': 'Whole Wheat', 'Category': 'Crackers', 'maxprice': 146.58}}\n",
      "{'_id': {'pid': 'Carrot', 'Category': 'Bars', 'maxprice': 129.21}}\n",
      "{'_id': {'pid': 'Bran', 'Category': 'Bars', 'maxprice': 205.7}}\n",
      "{'_id': {'pid': 'Pretzels', 'Category': 'Snacks', 'maxprice': 69.3}}\n",
      "{'_id': {'pid': 'Chocolate Chip', 'Category': 'Cookies', 'maxprice': 130.9}}\n",
      "{'_id': {'pid': 'Chocolate Chip', 'Category': 'Cookies', 'maxprice': 102.85}}\n",
      "{'_id': {'pid': 'Chocolate Chip', 'Category': 'Cookies', 'maxprice': 160.82}}\n",
      "{'_id': {'pid': 'Potato Chips', 'Category': 'Snacks', 'maxprice': 55.44}}\n",
      "{'_id': {'pid': 'Arrowroot', 'Category': 'Cookies', 'maxprice': 80.66}}\n",
      "{'_id': {'pid': 'Carrot', 'Category': 'Bars', 'maxprice': 164.61}}\n",
      "{'_id': {'pid': 'Whole Wheat', 'Category': 'Crackers', 'maxprice': 303.63}}\n",
      "{'_id': {'pid': 'Chocolate Chip', 'Category': 'Cookies', 'maxprice': 117.81}}\n",
      "{'_id': {'pid': 'Oatmeal Raisin', 'Category': 'Cookies', 'maxprice': 90.88}}\n",
      "{'_id': {'pid': 'Carrot', 'Category': 'Bars', 'maxprice': 40.71}}\n",
      "{'_id': {'pid': 'Carrot', 'Category': 'Bars', 'maxprice': 192.93}}\n",
      "{'_id': {'pid': 'Arrowroot', 'Category': 'Cookies', 'maxprice': 176.58}}\n",
      "{'_id': {'pid': 'Oatmeal Raisin', 'Category': 'Cookies', 'maxprice': 817.92}}\n",
      "{'_id': {'pid': 'Potato Chips', 'Category': 'Snacks', 'maxprice': 52.08}}\n",
      "{'_id': {'pid': 'Chocolate Chip', 'Category': 'Cookies', 'maxprice': 200.09}}\n",
      "{'_id': {'pid': 'Chocolate Chip', 'Category': 'Cookies', 'maxprice': 149.6}}\n",
      "{'_id': {'pid': 'Carrot', 'Category': 'Bars', 'maxprice': 111.51}}\n",
      "{'_id': {'pid': 'Arrowroot', 'Category': 'Cookies', 'maxprice': 126.44}}\n",
      "{'_id': {'pid': 'Oatmeal Raisin', 'Category': 'Cookies', 'maxprice': 159.04}}\n",
      "{'_id': {'pid': 'Bran', 'Category': 'Bars', 'maxprice': 160.82}}\n",
      "{'_id': {'pid': 'Bran', 'Category': 'Bars', 'maxprice': 78.54}}\n",
      "{'_id': {'pid': 'Whole Wheat', 'Category': 'Crackers', 'maxprice': 132.62}}\n",
      "{'_id': {'pid': 'Oatmeal Raisin', 'Category': 'Cookies', 'maxprice': 389.08}}\n",
      "{'_id': {'pid': 'Arrowroot', 'Category': 'Cookies', 'maxprice': 65.4}}\n",
      "{'_id': {'pid': 'Arrowroot', 'Category': 'Cookies', 'maxprice': 180.94}}\n",
      "{'_id': {'pid': 'Oatmeal Raisin', 'Category': 'Cookies', 'maxprice': 391.92}}\n",
      "{'_id': {'pid': 'Chocolate Chip', 'Category': 'Cookies', 'maxprice': 125.29}}\n",
      "{'_id': {'pid': 'Bran', 'Category': 'Bars', 'maxprice': 87.89}}\n",
      "{'_id': {'pid': 'Chocolate Chip', 'Category': 'Cookies', 'maxprice': 80.41}}\n",
      "{'_id': {'pid': 'Carrot', 'Category': 'Bars', 'maxprice': 249.57}}\n",
      "{'_id': {'pid': 'Arrowroot', 'Category': 'Cookies', 'maxprice': 87.2}}\n",
      "{'_id': {'pid': 'Oatmeal Raisin', 'Category': 'Cookies', 'maxprice': 124.96}}\n",
      "{'_id': {'pid': 'Whole Wheat', 'Category': 'Crackers', 'maxprice': 111.68}}\n",
      "{'_id': {'pid': 'Banana', 'Category': 'Bars', 'maxprice': 49.94}}\n",
      "{'_id': {'pid': 'Oatmeal Raisin', 'Category': 'Cookies', 'maxprice': 224.36}}\n",
      "{'_id': {'pid': 'Carrot', 'Category': 'Bars', 'maxprice': 61.95}}\n",
      "{'_id': {'pid': 'Bran', 'Category': 'Bars', 'maxprice': 127.16}}\n",
      "{'_id': {'pid': 'Bran', 'Category': 'Bars', 'maxprice': 72.93}}\n",
      "{'_id': {'pid': 'Carrot', 'Category': 'Bars', 'maxprice': 242.49}}\n",
      "{'_id': {'pid': 'Carrot', 'Category': 'Bars', 'maxprice': 74.34}}\n",
      "{'_id': {'pid': 'Potato Chips', 'Category': 'Snacks', 'maxprice': 68.88}}\n",
      "{'_id': {'pid': 'Carrot', 'Category': 'Bars', 'maxprice': 95.58}}\n",
      "{'_id': {'pid': 'Potato Chips', 'Category': 'Snacks', 'maxprice': 78.96}}\n",
      "{'_id': {'pid': 'Whole Wheat', 'Category': 'Crackers', 'maxprice': 160.54}}\n",
      "{'_id': {'pid': 'Arrowroot', 'Category': 'Cookies', 'maxprice': 296.48}}\n",
      "{'_id': {'pid': 'Arrowroot', 'Category': 'Cookies', 'maxprice': 189.66}}\n",
      "{'_id': {'pid': 'Whole Wheat', 'Category': 'Crackers', 'maxprice': 520.01}}\n",
      "{'_id': {'pid': 'Carrot', 'Category': 'Bars', 'maxprice': 84.96}}\n",
      "{'_id': {'pid': 'Arrowroot', 'Category': 'Cookies', 'maxprice': 43.6}}\n",
      "{'_id': {'pid': 'Bran', 'Category': 'Bars', 'maxprice': 155.21}}\n",
      "{'_id': {'pid': 'Arrowroot', 'Category': 'Cookies', 'maxprice': 78.48}}\n",
      "{'_id': {'pid': 'Carrot', 'Category': 'Bars', 'maxprice': 70.8}}\n",
      "{'_id': {'pid': 'Arrowroot', 'Category': 'Cookies', 'maxprice': 488.32}}\n",
      "{'_id': {'pid': 'Carrot', 'Category': 'Bars', 'maxprice': 162.84}}\n",
      "{'_id': {'pid': 'Oatmeal Raisin', 'Category': 'Cookies', 'maxprice': 284.0}}\n",
      "{'_id': {'pid': 'Arrowroot', 'Category': 'Cookies', 'maxprice': 318.28}}\n",
      "{'_id': {'pid': 'Bran', 'Category': 'Bars', 'maxprice': 192.61}}\n",
      "{'_id': {'pid': 'Potato Chips', 'Category': 'Snacks', 'maxprice': 47.04}}\n",
      "{'_id': {'pid': 'Oatmeal Raisin', 'Category': 'Cookies', 'maxprice': 144.84}}\n",
      "{'_id': {'pid': 'Whole Wheat', 'Category': 'Crackers', 'maxprice': 143.09}}\n",
      "{'_id': {'pid': 'Chocolate Chip', 'Category': 'Cookies', 'maxprice': 119.68}}\n",
      "{'_id': {'pid': 'Carrot', 'Category': 'Bars', 'maxprice': 77.88}}\n",
      "{'_id': {'pid': 'Chocolate Chip', 'Category': 'Cookies', 'maxprice': 91.63}}\n",
      "{'_id': {'pid': 'Carrot', 'Category': 'Bars', 'maxprice': 35.4}}\n",
      "{'_id': {'pid': 'Potato Chips', 'Category': 'Snacks', 'maxprice': 191.52}}\n",
      "{'_id': {'pid': 'Arrowroot', 'Category': 'Cookies', 'maxprice': 67.58}}\n",
      "{'_id': {'pid': 'Carrot', 'Category': 'Bars', 'maxprice': 107.97}}\n",
      "{'_id': {'pid': 'Oatmeal Raisin', 'Category': 'Cookies', 'maxprice': 210.16}}\n",
      "{'_id': {'pid': 'Oatmeal Raisin', 'Category': 'Cookies', 'maxprice': 352.16}}\n",
      "{'_id': {'pid': 'Chocolate Chip', 'Category': 'Cookies', 'maxprice': 63.58}}\n"
     ]
    }
   ],
   "source": [
    "#mximum price based on productwise and category\n",
    "\n",
    "\n",
    "r=db.fooddata.aggregate([{\"$group\":{\"_id\":{\"pid\":\"$Product\",\"Category\":\"$Category\",\"maxprice\":{\"$max\":\"$TotalPrice\"}}}}])\n",
    "\n",
    "for i in r:\n",
    "    print(i)"
   ]
  },
  {
   "cell_type": "code",
   "execution_count": 19,
   "id": "6cab7893",
   "metadata": {},
   "outputs": [
    {
     "name": "stdout",
     "output_type": "stream",
     "text": [
      "{'_id': {'cid': 'Snacks', 'minprice': 97.65}}\n",
      "{'_id': {'cid': 'Crackers', 'minprice': 80.27}}\n",
      "{'_id': {'cid': 'Cookies', 'minprice': 239.8}}\n",
      "{'_id': {'cid': 'Bars', 'minprice': 49.94}}\n",
      "{'_id': {'cid': 'Crackers', 'minprice': 97.72}}\n",
      "{'_id': {'cid': 'Bars', 'minprice': 72.93}}\n",
      "{'_id': {'cid': 'Bars', 'minprice': 159.3}}\n",
      "{'_id': {'cid': 'Cookies', 'minprice': 91.63}}\n",
      "{'_id': {'cid': 'Cookies', 'minprice': 116.44}}\n",
      "{'_id': {'cid': 'Crackers', 'minprice': 108.19}}\n",
      "{'_id': {'cid': 'Bars', 'minprice': 42.48}}\n",
      "{'_id': {'cid': 'Snacks', 'minprice': 107.52}}\n",
      "{'_id': {'cid': 'Bars', 'minprice': 240.72}}\n",
      "{'_id': {'cid': 'Cookies', 'minprice': 78.48}}\n",
      "{'_id': {'cid': 'Cookies', 'minprice': 142.12}}\n",
      "{'_id': {'cid': 'Crackers', 'minprice': 73.29}}\n",
      "{'_id': {'cid': 'Snacks', 'minprice': 48.72}}\n",
      "{'_id': {'cid': 'Bars', 'minprice': 97.35}}\n",
      "{'_id': {'cid': 'Cookies', 'minprice': 210.16}}\n",
      "{'_id': {'cid': 'Bars', 'minprice': 68.1}}\n",
      "{'_id': {'cid': 'Cookies', 'minprice': 133.48}}\n",
      "{'_id': {'cid': 'Bars', 'minprice': 182.31}}\n",
      "{'_id': {'cid': 'Cookies', 'minprice': 80.66}}\n",
      "{'_id': {'cid': 'Cookies', 'minprice': 119.68}}\n",
      "{'_id': {'cid': 'Bars', 'minprice': 180.54}}\n",
      "{'_id': {'cid': 'Bars', 'minprice': 61.71}}\n",
      "{'_id': {'cid': 'Bars', 'minprice': 235.41}}\n",
      "{'_id': {'cid': 'Cookies', 'minprice': 126.44}}\n",
      "{'_id': {'cid': 'Cookies', 'minprice': 65.4}}\n",
      "{'_id': {'cid': 'Bars', 'minprice': 60.18}}\n",
      "{'_id': {'cid': 'Cookies', 'minprice': 121.55}}\n",
      "{'_id': {'cid': 'Bars', 'minprice': 48.62}}\n",
      "{'_id': {'cid': 'Cookies', 'minprice': 85.2}}\n",
      "{'_id': {'cid': 'Cookies', 'minprice': 107.92}}\n",
      "{'_id': {'cid': 'Cookies', 'minprice': 93.74}}\n",
      "{'_id': {'cid': 'Cookies', 'minprice': 189.66}}\n",
      "{'_id': {'cid': 'Snacks', 'minprice': 42.0}}\n",
      "{'_id': {'cid': 'Bars', 'minprice': 155.21}}\n",
      "{'_id': {'cid': 'Bars', 'minprice': 80.41}}\n",
      "{'_id': {'cid': 'Bars', 'minprice': 242.49}}\n",
      "{'_id': {'cid': 'Snacks', 'minprice': 78.96}}\n",
      "{'_id': {'cid': 'Bars', 'minprice': 79.65}}\n",
      "{'_id': {'cid': 'Cookies', 'minprice': 117.81}}\n",
      "{'_id': {'cid': 'Cookies', 'minprice': 366.36}}\n",
      "{'_id': {'cid': 'Cookies', 'minprice': 153.34}}\n",
      "{'_id': {'cid': 'Bars', 'minprice': 196.35}}\n",
      "{'_id': {'cid': 'Bars', 'minprice': 78.54}}\n",
      "{'_id': {'cid': 'Cookies', 'minprice': 340.8}}\n",
      "{'_id': {'cid': 'Bars', 'minprice': 102.66}}\n",
      "{'_id': {'cid': 'Snacks', 'minprice': 35.28}}\n",
      "{'_id': {'cid': 'Bars', 'minprice': 35.4}}\n",
      "{'_id': {'cid': 'Bars', 'minprice': 99.12}}\n",
      "{'_id': {'cid': 'Cookies', 'minprice': 74.12}}\n",
      "{'_id': {'cid': 'Cookies', 'minprice': 108.46}}\n",
      "{'_id': {'cid': 'Cookies', 'minprice': 58.86}}\n",
      "{'_id': {'cid': 'Cookies', 'minprice': 72.93}}\n",
      "{'_id': {'cid': 'Bars', 'minprice': 74.34}}\n",
      "{'_id': {'cid': 'Cookies', 'minprice': 82.84}}\n",
      "{'_id': {'cid': 'Bars', 'minprice': 253.11}}\n",
      "{'_id': {'cid': 'Cookies', 'minprice': 130.9}}\n",
      "{'_id': {'cid': 'Cookies', 'minprice': 59.84}}\n",
      "{'_id': {'cid': 'Cookies', 'minprice': 196.2}}\n",
      "{'_id': {'cid': 'Bars', 'minprice': 40.71}}\n",
      "{'_id': {'cid': 'Crackers', 'minprice': 143.09}}\n",
      "{'_id': {'cid': 'Bars', 'minprice': 93.5}}\n",
      "{'_id': {'cid': 'Snacks', 'minprice': 68.88}}\n",
      "{'_id': {'cid': 'Cookies', 'minprice': 44.88}}\n",
      "{'_id': {'cid': 'Cookies', 'minprice': 82.36}}\n",
      "{'_id': {'cid': 'Snacks', 'minprice': 52.08}}\n",
      "{'_id': {'cid': 'Cookies', 'minprice': 67.32}}\n",
      "{'_id': {'cid': 'Crackers', 'minprice': 139.6}}\n",
      "{'_id': {'cid': 'Bars', 'minprice': 120.36}}\n",
      "{'_id': {'cid': 'Crackers', 'minprice': 87.25}}\n",
      "{'_id': {'cid': 'Bars', 'minprice': 121.55}}\n",
      "{'_id': {'cid': 'Cookies', 'minprice': 224.54}}\n",
      "{'_id': {'cid': 'Cookies', 'minprice': 63.58}}\n",
      "{'_id': {'cid': 'Snacks', 'minprice': 33.6}}\n",
      "{'_id': {'cid': 'Bars', 'minprice': 143.99}}\n",
      "{'_id': {'cid': 'Bars', 'minprice': 95.37}}\n",
      "{'_id': {'cid': 'Cookies', 'minprice': 391.92}}\n",
      "{'_id': {'cid': 'Cookies', 'minprice': 817.92}}\n",
      "{'_id': {'cid': 'Bars', 'minprice': 56.1}}\n",
      "{'_id': {'cid': 'Cookies', 'minprice': 67.58}}\n",
      "{'_id': {'cid': 'Bars', 'minprice': 53.1}}\n",
      "{'_id': {'cid': 'Cookies', 'minprice': 275.48}}\n",
      "{'_id': {'cid': 'Crackers', 'minprice': 111.68}}\n",
      "{'_id': {'cid': 'Bars', 'minprice': 129.21}}\n",
      "{'_id': {'cid': 'Bars', 'minprice': 72.57}}\n",
      "{'_id': {'cid': 'Crackers', 'minprice': 115.17}}\n",
      "{'_id': {'cid': 'Cookies', 'minprice': 113.6}}\n",
      "{'_id': {'cid': 'Cookies', 'minprice': 69.76}}\n",
      "{'_id': {'cid': 'Cookies', 'minprice': 224.36}}\n",
      "{'_id': {'cid': 'Cookies', 'minprice': 43.01}}\n",
      "{'_id': {'cid': 'Bars', 'minprice': 104.72}}\n",
      "{'_id': {'cid': 'Crackers', 'minprice': 520.01}}\n",
      "{'_id': {'cid': 'Snacks', 'minprice': 85.05}}\n",
      "{'_id': {'cid': 'Crackers', 'minprice': 303.63}}\n",
      "{'_id': {'cid': 'Cookies', 'minprice': 227.2}}\n",
      "{'_id': {'cid': 'Cookies', 'minprice': 184.6}}\n",
      "{'_id': {'cid': 'Bars', 'minprice': 87.89}}\n",
      "{'_id': {'cid': 'Bars', 'minprice': 76.11}}\n",
      "{'_id': {'cid': 'Cookies', 'minprice': 61.04}}\n",
      "{'_id': {'cid': 'Snacks', 'minprice': 225.12}}\n",
      "{'_id': {'cid': 'Snacks', 'minprice': 94.5}}\n",
      "{'_id': {'cid': 'Cookies', 'minprice': 124.96}}\n",
      "{'_id': {'cid': 'Snacks', 'minprice': 47.04}}\n",
      "{'_id': {'cid': 'Bars', 'minprice': 127.16}}\n",
      "{'_id': {'cid': 'Bars', 'minprice': 61.29}}\n",
      "{'_id': {'cid': 'Bars', 'minprice': 69.03}}\n",
      "{'_id': {'cid': 'Cookies', 'minprice': 296.48}}\n",
      "{'_id': {'cid': 'Crackers', 'minprice': 90.74}}\n",
      "{'_id': {'cid': 'Cookies', 'minprice': 352.16}}\n",
      "{'_id': {'cid': 'Bars', 'minprice': 54.87}}\n",
      "{'_id': {'cid': 'Bars', 'minprice': 164.61}}\n",
      "{'_id': {'cid': 'Cookies', 'minprice': 93.72}}\n",
      "{'_id': {'cid': 'Cookies', 'minprice': 43.6}}\n",
      "{'_id': {'cid': 'Cookies', 'minprice': 113.36}}\n",
      "{'_id': {'cid': 'Cookies', 'minprice': 284.0}}\n",
      "{'_id': {'cid': 'Cookies', 'minprice': 458.15}}\n",
      "{'_id': {'cid': 'Bars', 'minprice': 95.58}}\n",
      "{'_id': {'cid': 'Cookies', 'minprice': 140.25}}\n",
      "{'_id': {'cid': 'Crackers', 'minprice': 132.62}}\n",
      "{'_id': {'cid': 'Bars', 'minprice': 58.41}}\n",
      "{'_id': {'cid': 'Crackers', 'minprice': 104.7}}\n",
      "{'_id': {'cid': 'Cookies', 'minprice': 170.4}}\n",
      "{'_id': {'cid': 'Cookies', 'minprice': 159.04}}\n",
      "{'_id': {'cid': 'Bars', 'minprice': 111.51}}\n",
      "{'_id': {'cid': 'Cookies', 'minprice': 303.02}}\n",
      "{'_id': {'cid': 'Snacks', 'minprice': 81.9}}\n",
      "{'_id': {'cid': 'Snacks', 'minprice': 82.32}}\n",
      "{'_id': {'cid': 'Snacks', 'minprice': 114.24}}\n",
      "{'_id': {'cid': 'Snacks', 'minprice': 104.16}}\n",
      "{'_id': {'cid': 'Bars', 'minprice': 148.68}}\n",
      "{'_id': {'cid': 'Snacks', 'minprice': 91.35}}\n",
      "{'_id': {'cid': 'Bars', 'minprice': 44.25}}\n",
      "{'_id': {'cid': 'Snacks', 'minprice': 37.8}}\n",
      "{'_id': {'cid': 'Bars', 'minprice': 541.62}}\n",
      "{'_id': {'cid': 'Cookies', 'minprice': 74.8}}\n",
      "{'_id': {'cid': 'Bars', 'minprice': 162.84}}\n",
      "{'_id': {'cid': 'Bars', 'minprice': 177.0}}\n",
      "{'_id': {'cid': 'Bars', 'minprice': 134.64}}\n",
      "{'_id': {'cid': 'Crackers', 'minprice': 146.58}}\n",
      "{'_id': {'cid': 'Cookies', 'minprice': 149.6}}\n",
      "{'_id': {'cid': 'Bars', 'minprice': 208.86}}\n",
      "{'_id': {'cid': 'Bars', 'minprice': 84.96}}\n",
      "{'_id': {'cid': 'Cookies', 'minprice': 160.82}}\n",
      "{'_id': {'cid': 'Snacks', 'minprice': 40.32}}\n",
      "{'_id': {'cid': 'Cookies', 'minprice': 71.06}}\n",
      "{'_id': {'cid': 'Bars', 'minprice': 90.27}}\n",
      "{'_id': {'cid': 'Snacks', 'minprice': 36.45}}\n",
      "{'_id': {'cid': 'Cookies', 'minprice': 158.95}}\n",
      "{'_id': {'cid': 'Cookies', 'minprice': 80.41}}\n",
      "{'_id': {'cid': 'Cookies', 'minprice': 433.84}}\n",
      "{'_id': {'cid': 'Cookies', 'minprice': 516.66}}\n",
      "{'_id': {'cid': 'Cookies', 'minprice': 102.85}}\n",
      "{'_id': {'cid': 'Cookies', 'minprice': 488.32}}\n",
      "{'_id': {'cid': 'Bars', 'minprice': 205.7}}\n",
      "{'_id': {'cid': 'Bars', 'minprice': 136.29}}\n",
      "{'_id': {'cid': 'Bars', 'minprice': 106.59}}\n",
      "{'_id': {'cid': 'Crackers', 'minprice': 118.66}}\n",
      "{'_id': {'cid': 'Bars', 'minprice': 125.67}}\n",
      "{'_id': {'cid': 'Cookies', 'minprice': 180.94}}\n",
      "{'_id': {'cid': 'Bars', 'minprice': 71.06}}\n",
      "{'_id': {'cid': 'Bars', 'minprice': 249.57}}\n",
      "{'_id': {'cid': 'Bars', 'minprice': 92.04}}\n",
      "{'_id': {'cid': 'Bars', 'minprice': 132.75}}\n",
      "{'_id': {'cid': 'Crackers', 'minprice': 160.54}}\n",
      "{'_id': {'cid': 'Bars', 'minprice': 160.82}}\n",
      "{'_id': {'cid': 'Bars', 'minprice': 86.73}}\n",
      "{'_id': {'cid': 'Snacks', 'minprice': 66.15}}\n",
      "{'_id': {'cid': 'Cookies', 'minprice': 389.08}}\n",
      "{'_id': {'cid': 'Cookies', 'minprice': 179.52}}\n",
      "{'_id': {'cid': 'Bars', 'minprice': 61.95}}\n",
      "{'_id': {'cid': 'Bars', 'minprice': 107.97}}\n",
      "{'_id': {'cid': 'Cookies', 'minprice': 394.57}}\n",
      "{'_id': {'cid': 'Cookies', 'minprice': 57.97}}\n",
      "{'_id': {'cid': 'Cookies', 'minprice': 87.2}}\n",
      "{'_id': {'cid': 'Bars', 'minprice': 70.8}}\n",
      "{'_id': {'cid': 'Crackers', 'minprice': 69.8}}\n",
      "{'_id': {'cid': 'Bars', 'minprice': 192.93}}\n",
      "{'_id': {'cid': 'Cookies', 'minprice': 125.29}}\n",
      "{'_id': {'cid': 'Snacks', 'minprice': 191.52}}\n",
      "{'_id': {'cid': 'Snacks', 'minprice': 55.44}}\n",
      "{'_id': {'cid': 'Bars', 'minprice': 192.61}}\n",
      "{'_id': {'cid': 'Cookies', 'minprice': 167.86}}\n",
      "{'_id': {'cid': 'Cookies', 'minprice': 200.09}}\n",
      "{'_id': {'cid': 'Cookies', 'minprice': 548.12}}\n",
      "{'_id': {'cid': 'Snacks', 'minprice': 69.3}}\n",
      "{'_id': {'cid': 'Cookies', 'minprice': 176.58}}\n",
      "{'_id': {'cid': 'Bars', 'minprice': 67.26}}\n",
      "{'_id': {'cid': 'Cookies', 'minprice': 144.84}}\n",
      "{'_id': {'cid': 'Bars', 'minprice': 77.88}}\n",
      "{'_id': {'cid': 'Bars', 'minprice': 161.07}}\n",
      "{'_id': {'cid': 'Cookies', 'minprice': 349.32}}\n",
      "{'_id': {'cid': 'Bars', 'minprice': 93.81}}\n",
      "{'_id': {'cid': 'Cookies', 'minprice': 90.88}}\n",
      "{'_id': {'cid': 'Bars', 'minprice': 123.42}}\n",
      "{'_id': {'cid': 'Bars', 'minprice': 140.25}}\n",
      "{'_id': {'cid': 'Bars', 'minprice': 50.49}}\n",
      "{'_id': {'cid': 'Cookies', 'minprice': 381.5}}\n",
      "{'_id': {'cid': 'Cookies', 'minprice': 318.28}}\n"
     ]
    }
   ],
   "source": [
    "#minimum price on each product on category\n",
    "\n",
    "r=db.fooddata.aggregate([{\"$group\":{\"_id\":{\"cid\":\"$Category\",\"minprice\":{\"$min\":\"$TotalPrice\"}}}}])\n",
    "\n",
    "for i in r:\n",
    "    print(i)"
   ]
  },
  {
   "cell_type": "code",
   "execution_count": 20,
   "id": "1012f0b1",
   "metadata": {},
   "outputs": [
    {
     "name": "stdout",
     "output_type": "stream",
     "text": [
      "Arrowroot\n",
      "Banana\n",
      "Bran\n",
      "Carrot\n",
      "Chocolate Chip\n",
      "Oatmeal Raisin\n",
      "Potato Chips\n",
      "Pretzels\n",
      "Whole Wheat\n"
     ]
    }
   ],
   "source": [
    "#no of products\n",
    "\n",
    "r=db.fooddata.distinct(\"Product\")\n",
    "    \n",
    "for i in r:\n",
    "    print(i)"
   ]
  },
  {
   "cell_type": "code",
   "execution_count": 21,
   "id": "604bec64",
   "metadata": {},
   "outputs": [
    {
     "name": "stdout",
     "output_type": "stream",
     "text": [
      "Bars\n",
      "Cookies\n",
      "Crackers\n",
      "Snacks\n"
     ]
    }
   ],
   "source": [
    "#no of category\n",
    "\n",
    "r=db.fooddata.distinct(\"Category\")\n",
    "\n",
    "for i in r:\n",
    "    print(i)"
   ]
  },
  {
   "cell_type": "code",
   "execution_count": 22,
   "id": "40bddfbb",
   "metadata": {},
   "outputs": [
    {
     "name": "stdout",
     "output_type": "stream",
     "text": [
      "{'_id': 'null', 'Quantity': 15442}\n"
     ]
    }
   ],
   "source": [
    "#total quantity\n",
    "\n",
    "r=db.fooddata.aggregate([{\"$group\":{\"_id\":\"null\",\"Quantity\":{\"$sum\":\"$Quantity\"}}}])\n",
    "\n",
    "for i in r:\n",
    "    print(i)"
   ]
  },
  {
   "cell_type": "code",
   "execution_count": 23,
   "id": "89b34a48",
   "metadata": {},
   "outputs": [
    {
     "name": "stdout",
     "output_type": "stream",
     "text": [
      "Total count of orders in East region and West region are 94 and 150\n"
     ]
    }
   ],
   "source": [
    "#count no of orders in east region and west region.\n",
    "\n",
    "w=db.fooddata.count_documents({\"Region\":\"West\"})\n",
    "e=db.fooddata.count_documents({\"Region\":\"East\"})\n",
    "print(\"Total count of orders in East region and West region are\",w,\"and\",e)"
   ]
  },
  {
   "cell_type": "code",
   "execution_count": 24,
   "id": "bb7dfd0e",
   "metadata": {},
   "outputs": [
    {
     "name": "stdout",
     "output_type": "stream",
     "text": [
      "[{'_id': 'New York', 'sales': 62}, {'_id': 'San Diego', 'sales': 39}, {'_id': 'Boston', 'sales': 88}, {'_id': 'Los Angeles', 'sales': 55}]\n"
     ]
    }
   ],
   "source": [
    "# no of orders in each city wise sales\n",
    "\n",
    "\n",
    "city=[{\"$unwind\":\"$City\"},{\"$group\":{\"_id\":\"$City\",\"sales\":{\"$sum\":1}}}]\n",
    "print(list(db.fooddata.aggregate(city)))"
   ]
  },
  {
   "cell_type": "code",
   "execution_count": 25,
   "id": "7e9f77bf",
   "metadata": {},
   "outputs": [
    {
     "name": "stdout",
     "output_type": "stream",
     "text": [
      "{'Quantity': 33, 'TotalPrice': 58.41, 'city': 'Boston', 'Category': 'Bars'}\n",
      "{'Quantity': 87, 'TotalPrice': 303.63, 'city': 'Boston', 'Category': 'Crackers'}\n",
      "{'Quantity': 38, 'TotalPrice': 82.84, 'city': 'Boston', 'Category': 'Cookies'}\n",
      "{'Quantity': 54, 'TotalPrice': 95.58, 'city': 'Boston', 'Category': 'Bars'}\n",
      "{'Quantity': 149, 'TotalPrice': 520.01, 'city': 'Boston', 'Category': 'Crackers'}\n",
      "{'Quantity': 36, 'TotalPrice': 78.48, 'city': 'Boston', 'Category': 'Cookies'}\n",
      "{'Quantity': 31, 'TotalPrice': 57.97, 'city': 'Boston', 'Category': 'Cookies'}\n",
      "{'Quantity': 28, 'TotalPrice': 97.72, 'city': 'Boston', 'Category': 'Crackers'}\n",
      "{'Quantity': 43, 'TotalPrice': 93.74, 'city': 'Boston', 'Category': 'Cookies'}\n",
      "{'Quantity': 123, 'TotalPrice': 349.32, 'city': 'Boston', 'Category': 'Cookies'}\n",
      "{'Quantity': 61, 'TotalPrice': 107.97, 'city': 'Boston', 'Category': 'Bars'}\n",
      "{'Quantity': 40, 'TotalPrice': 139.6, 'city': 'Boston', 'Category': 'Crackers'}\n",
      "{'Quantity': 103, 'TotalPrice': 192.61, 'city': 'Boston', 'Category': 'Bars'}\n",
      "{'Quantity': 193, 'TotalPrice': 548.12, 'city': 'Boston', 'Category': 'Cookies'}\n",
      "{'Quantity': 48, 'TotalPrice': 84.96, 'city': 'Boston', 'Category': 'Bars'}\n",
      "{'Quantity': 134, 'TotalPrice': 225.12, 'city': 'Boston', 'Category': 'Snacks'}\n",
      "{'Quantity': 105, 'TotalPrice': 196.35, 'city': 'Boston', 'Category': 'Bars'}\n",
      "{'Quantity': 138, 'TotalPrice': 391.92, 'city': 'Boston', 'Category': 'Cookies'}\n",
      "{'Quantity': 27, 'TotalPrice': 58.86, 'city': 'Boston', 'Category': 'Cookies'}\n",
      "{'Quantity': 58, 'TotalPrice': 102.66, 'city': 'Boston', 'Category': 'Bars'}\n",
      "{'Quantity': 33, 'TotalPrice': 115.17, 'city': 'Boston', 'Category': 'Crackers'}\n",
      "{'Quantity': 75, 'TotalPrice': 132.75, 'city': 'Boston', 'Category': 'Bars'}\n",
      "{'Quantity': 38, 'TotalPrice': 132.62, 'city': 'Boston', 'Category': 'Crackers'}\n",
      "{'Quantity': 136, 'TotalPrice': 240.72, 'city': 'Boston', 'Category': 'Bars'}\n",
      "{'Quantity': 42, 'TotalPrice': 146.58, 'city': 'Boston', 'Category': 'Crackers'}\n",
      "{'Quantity': 56, 'TotalPrice': 104.72, 'city': 'Boston', 'Category': 'Bars'}\n",
      "{'Quantity': 137, 'TotalPrice': 389.08, 'city': 'Boston', 'Category': 'Cookies'}\n",
      "{'Quantity': 31, 'TotalPrice': 67.58, 'city': 'Boston', 'Category': 'Cookies'}\n",
      "{'Quantity': 109, 'TotalPrice': 192.93, 'city': 'Boston', 'Category': 'Bars'}\n",
      "{'Quantity': 21, 'TotalPrice': 73.29, 'city': 'Boston', 'Category': 'Crackers'}\n",
      "{'Quantity': 28, 'TotalPrice': 61.04, 'city': 'Boston', 'Category': 'Cookies'}\n",
      "{'Quantity': 143, 'TotalPrice': 253.11, 'city': 'Boston', 'Category': 'Bars'}\n",
      "{'Quantity': 27, 'TotalPrice': 85.05, 'city': 'Boston', 'Category': 'Snacks'}\n",
      "{'Quantity': 81, 'TotalPrice': 176.58, 'city': 'Boston', 'Category': 'Cookies'}\n",
      "{'Quantity': 77, 'TotalPrice': 136.29, 'city': 'Boston', 'Category': 'Bars'}\n",
      "{'Quantity': 38, 'TotalPrice': 132.62, 'city': 'Boston', 'Category': 'Crackers'}\n",
      "{'Quantity': 40, 'TotalPrice': 87.2, 'city': 'Boston', 'Category': 'Cookies'}\n",
      "{'Quantity': 49, 'TotalPrice': 91.63, 'city': 'Boston', 'Category': 'Cookies'}\n",
      "{'Quantity': 46, 'TotalPrice': 160.54, 'city': 'Boston', 'Category': 'Crackers'}\n",
      "{'Quantity': 66, 'TotalPrice': 123.42, 'city': 'Boston', 'Category': 'Bars'}\n",
      "{'Quantity': 97, 'TotalPrice': 275.48, 'city': 'Boston', 'Category': 'Cookies'}\n",
      "{'Quantity': 30, 'TotalPrice': 68.1, 'city': 'Boston', 'Category': 'Bars'}\n",
      "{'Quantity': 36, 'TotalPrice': 67.32, 'city': 'Boston', 'Category': 'Cookies'}\n",
      "{'Quantity': 41, 'TotalPrice': 143.09, 'city': 'Boston', 'Category': 'Crackers'}\n",
      "{'Quantity': 32, 'TotalPrice': 69.76, 'city': 'Boston', 'Category': 'Cookies'}\n",
      "{'Quantity': 63, 'TotalPrice': 111.51, 'city': 'Boston', 'Category': 'Bars'}\n",
      "{'Quantity': 29, 'TotalPrice': 91.35, 'city': 'Boston', 'Category': 'Snacks'}\n",
      "{'Quantity': 52, 'TotalPrice': 113.36, 'city': 'Boston', 'Category': 'Cookies'}\n",
      "{'Quantity': 51, 'TotalPrice': 90.27, 'city': 'Boston', 'Category': 'Bars'}\n",
      "{'Quantity': 24, 'TotalPrice': 40.32, 'city': 'Boston', 'Category': 'Snacks'}\n",
      "{'Quantity': 68, 'TotalPrice': 120.36, 'city': 'Boston', 'Category': 'Bars'}\n",
      "{'Quantity': 31, 'TotalPrice': 97.65, 'city': 'Boston', 'Category': 'Snacks'}\n",
      "{'Quantity': 93, 'TotalPrice': 164.61, 'city': 'Boston', 'Category': 'Bars'}\n",
      "{'Quantity': 47, 'TotalPrice': 78.96, 'city': 'Boston', 'Category': 'Snacks'}\n",
      "{'Quantity': 36, 'TotalPrice': 78.48, 'city': 'Boston', 'Category': 'Cookies'}\n",
      "{'Quantity': 123, 'TotalPrice': 349.32, 'city': 'Boston', 'Category': 'Cookies'}\n",
      "{'Quantity': 27, 'TotalPrice': 50.49, 'city': 'Boston', 'Category': 'Bars'}\n",
      "{'Quantity': 129, 'TotalPrice': 366.36, 'city': 'Boston', 'Category': 'Cookies'}\n",
      "{'Quantity': 58, 'TotalPrice': 102.66, 'city': 'Boston', 'Category': 'Bars'}\n",
      "{'Quantity': 30, 'TotalPrice': 94.5, 'city': 'Boston', 'Category': 'Snacks'}\n",
      "{'Quantity': 27, 'TotalPrice': 50.49, 'city': 'Boston', 'Category': 'Bars'}\n",
      "{'Quantity': 120, 'TotalPrice': 340.8, 'city': 'Boston', 'Category': 'Cookies'}\n",
      "{'Quantity': 26, 'TotalPrice': 90.74, 'city': 'Boston', 'Category': 'Crackers'}\n",
      "{'Quantity': 27, 'TotalPrice': 61.29, 'city': 'Boston', 'Category': 'Bars'}\n",
      "{'Quantity': 38, 'TotalPrice': 71.06, 'city': 'Boston', 'Category': 'Cookies'}\n",
      "{'Quantity': 34, 'TotalPrice': 118.66, 'city': 'Boston', 'Category': 'Crackers'}\n",
      "{'Quantity': 22, 'TotalPrice': 49.94, 'city': 'Boston', 'Category': 'Bars'}\n",
      "{'Quantity': 32, 'TotalPrice': 59.84, 'city': 'Boston', 'Category': 'Cookies'}\n",
      "{'Quantity': 23, 'TotalPrice': 80.27, 'city': 'Boston', 'Category': 'Crackers'}\n",
      "{'Quantity': 55, 'TotalPrice': 97.35, 'city': 'Boston', 'Category': 'Bars'}\n",
      "{'Quantity': 22, 'TotalPrice': 69.3, 'city': 'Boston', 'Category': 'Snacks'}\n",
      "{'Quantity': 136, 'TotalPrice': 296.48, 'city': 'Boston', 'Category': 'Cookies'}\n",
      "{'Quantity': 25, 'TotalPrice': 44.25, 'city': 'Boston', 'Category': 'Bars'}\n",
      "{'Quantity': 26, 'TotalPrice': 81.9, 'city': 'Boston', 'Category': 'Snacks'}\n",
      "{'Quantity': 40, 'TotalPrice': 87.2, 'city': 'Boston', 'Category': 'Cookies'}\n",
      "{'Quantity': 31, 'TotalPrice': 54.87, 'city': 'Boston', 'Category': 'Bars'}\n",
      "{'Quantity': 21, 'TotalPrice': 66.15, 'city': 'Boston', 'Category': 'Snacks'}\n",
      "{'Quantity': 87, 'TotalPrice': 189.66, 'city': 'Boston', 'Category': 'Cookies'}\n",
      "{'Quantity': 43, 'TotalPrice': 76.11, 'city': 'Boston', 'Category': 'Bars'}\n",
      "{'Quantity': 30, 'TotalPrice': 104.7, 'city': 'Boston', 'Category': 'Crackers'}\n",
      "{'Quantity': 83, 'TotalPrice': 155.21, 'city': 'Boston', 'Category': 'Bars'}\n",
      "{'Quantity': 124, 'TotalPrice': 352.16, 'city': 'Boston', 'Category': 'Cookies'}\n",
      "{'Quantity': 139, 'TotalPrice': 303.02, 'city': 'Boston', 'Category': 'Cookies'}\n",
      "{'Quantity': 211, 'TotalPrice': 394.57, 'city': 'Boston', 'Category': 'Cookies'}\n",
      "{'Quantity': 20, 'TotalPrice': 69.8, 'city': 'Boston', 'Category': 'Crackers'}\n",
      "{'Quantity': 34, 'TotalPrice': 74.12, 'city': 'Boston', 'Category': 'Cookies'}\n",
      "{'Quantity': 245, 'TotalPrice': 458.15, 'city': 'Boston', 'Category': 'Cookies'}\n",
      "{'Quantity': 30, 'TotalPrice': 104.7, 'city': 'Boston', 'Category': 'Crackers'}\n"
     ]
    }
   ],
   "source": [
    "#quantity wise sales on category where city is boston\n",
    "\n",
    "r=db.fooddata.aggregate([{\"$match\":{\"City\":\"Boston\"}},{\"$project\":{\"_id\":0,\"city\":\"Boston\",\"Category\":\"$Category\",\"Quantity\":1,\"TotalPrice\":1}}])\n",
    "\n",
    "for i in r:\n",
    "    print(i)"
   ]
  },
  {
   "cell_type": "code",
   "execution_count": 26,
   "id": "72314dcc",
   "metadata": {},
   "outputs": [
    {
     "name": "stdout",
     "output_type": "stream",
     "text": [
      "{'City': 'Boston', 'Quantity': 87, 'Region': 'East'}\n",
      "{'City': 'New York', 'Quantity': 82, 'Region': 'East'}\n",
      "{'City': 'New York', 'Quantity': 100, 'Region': 'East'}\n",
      "{'City': 'New York', 'Quantity': 85, 'Region': 'East'}\n",
      "{'City': 'Los Angeles', 'Quantity': 86, 'Region': 'East'}\n",
      "{'City': 'New York', 'Quantity': 91, 'Region': 'East'}\n",
      "{'City': 'New York', 'Quantity': 76, 'Region': 'East'}\n",
      "{'City': 'Boston', 'Quantity': 75, 'Region': 'East'}\n",
      "{'City': 'Los Angeles', 'Quantity': 75, 'Region': 'East'}\n",
      "{'City': 'New York', 'Quantity': 72, 'Region': 'East'}\n",
      "{'City': 'San Diego', 'Quantity': 70, 'Region': 'East'}\n",
      "{'City': 'Los Angeles', 'Quantity': 80, 'Region': 'East'}\n",
      "{'City': 'New York', 'Quantity': 75, 'Region': 'East'}\n",
      "{'City': 'New York', 'Quantity': 74, 'Region': 'East'}\n",
      "{'City': 'Boston', 'Quantity': 81, 'Region': 'East'}\n",
      "{'City': 'Boston', 'Quantity': 77, 'Region': 'East'}\n",
      "{'City': 'New York', 'Quantity': 90, 'Region': 'East'}\n",
      "{'City': 'Boston', 'Quantity': 97, 'Region': 'East'}\n",
      "{'City': 'New York', 'Quantity': 92, 'Region': 'East'}\n",
      "{'City': 'San Diego', 'Quantity': 83, 'Region': 'East'}\n",
      "{'City': 'Los Angeles', 'Quantity': 77, 'Region': 'East'}\n",
      "{'City': 'Los Angeles', 'Quantity': 80, 'Region': 'East'}\n",
      "{'City': 'New York', 'Quantity': 97, 'Region': 'East'}\n",
      "{'City': 'San Diego', 'Quantity': 86, 'Region': 'East'}\n",
      "{'City': 'Boston', 'Quantity': 93, 'Region': 'East'}\n",
      "{'City': 'Los Angeles', 'Quantity': 90, 'Region': 'East'}\n",
      "{'City': 'Los Angeles', 'Quantity': 77, 'Region': 'East'}\n",
      "{'City': 'San Diego', 'Quantity': 82, 'Region': 'East'}\n",
      "{'City': 'New York', 'Quantity': 84, 'Region': 'East'}\n",
      "{'City': 'Los Angeles', 'Quantity': 73, 'Region': 'East'}\n",
      "{'City': 'New York', 'Quantity': 71, 'Region': 'East'}\n",
      "{'City': 'San Diego', 'Quantity': 90, 'Region': 'East'}\n",
      "{'City': 'Los Angeles', 'Quantity': 79, 'Region': 'East'}\n",
      "{'City': 'Boston', 'Quantity': 87, 'Region': 'East'}\n",
      "{'City': 'Boston', 'Quantity': 83, 'Region': 'East'}\n",
      "{'City': 'Los Angeles', 'Quantity': 100, 'Region': 'East'}\n",
      "{'City': 'San Diego', 'Quantity': 96, 'Region': 'East'}\n"
     ]
    }
   ],
   "source": [
    "#east region sales base on quantity\n",
    "\n",
    "\n",
    "for i in db.fooddata.aggregate([{\"$match\":{\"$and\":[{\"Quantity\":{\"$gte\":70,\"$lte\":100}}]}},{\"$project\":{\"_id\":0,\"Region\":\"East\",\"City\":1,\"Quantity\":1}}]):\n",
    "    print(i)"
   ]
  },
  {
   "cell_type": "code",
   "execution_count": 27,
   "id": "46b609f6",
   "metadata": {},
   "outputs": [
    {
     "name": "stdout",
     "output_type": "stream",
     "text": [
      "{'City': 'Boston', 'Quantity': 87, 'Region': 'West'}\n",
      "{'City': 'New York', 'Quantity': 82, 'Region': 'West'}\n",
      "{'City': 'New York', 'Quantity': 100, 'Region': 'West'}\n",
      "{'City': 'New York', 'Quantity': 85, 'Region': 'West'}\n",
      "{'City': 'Los Angeles', 'Quantity': 86, 'Region': 'West'}\n",
      "{'City': 'New York', 'Quantity': 91, 'Region': 'West'}\n",
      "{'City': 'New York', 'Quantity': 76, 'Region': 'West'}\n",
      "{'City': 'Boston', 'Quantity': 75, 'Region': 'West'}\n",
      "{'City': 'Los Angeles', 'Quantity': 75, 'Region': 'West'}\n",
      "{'City': 'New York', 'Quantity': 72, 'Region': 'West'}\n",
      "{'City': 'San Diego', 'Quantity': 70, 'Region': 'West'}\n",
      "{'City': 'Los Angeles', 'Quantity': 80, 'Region': 'West'}\n",
      "{'City': 'New York', 'Quantity': 75, 'Region': 'West'}\n",
      "{'City': 'New York', 'Quantity': 74, 'Region': 'West'}\n",
      "{'City': 'Boston', 'Quantity': 81, 'Region': 'West'}\n",
      "{'City': 'Boston', 'Quantity': 77, 'Region': 'West'}\n",
      "{'City': 'New York', 'Quantity': 90, 'Region': 'West'}\n",
      "{'City': 'Boston', 'Quantity': 97, 'Region': 'West'}\n",
      "{'City': 'New York', 'Quantity': 92, 'Region': 'West'}\n",
      "{'City': 'San Diego', 'Quantity': 83, 'Region': 'West'}\n",
      "{'City': 'Los Angeles', 'Quantity': 77, 'Region': 'West'}\n",
      "{'City': 'Los Angeles', 'Quantity': 80, 'Region': 'West'}\n",
      "{'City': 'New York', 'Quantity': 97, 'Region': 'West'}\n",
      "{'City': 'San Diego', 'Quantity': 86, 'Region': 'West'}\n",
      "{'City': 'Boston', 'Quantity': 93, 'Region': 'West'}\n",
      "{'City': 'Los Angeles', 'Quantity': 90, 'Region': 'West'}\n",
      "{'City': 'Los Angeles', 'Quantity': 77, 'Region': 'West'}\n",
      "{'City': 'San Diego', 'Quantity': 82, 'Region': 'West'}\n",
      "{'City': 'New York', 'Quantity': 84, 'Region': 'West'}\n",
      "{'City': 'Los Angeles', 'Quantity': 73, 'Region': 'West'}\n",
      "{'City': 'New York', 'Quantity': 71, 'Region': 'West'}\n",
      "{'City': 'San Diego', 'Quantity': 90, 'Region': 'West'}\n",
      "{'City': 'Los Angeles', 'Quantity': 79, 'Region': 'West'}\n",
      "{'City': 'Boston', 'Quantity': 87, 'Region': 'West'}\n",
      "{'City': 'Boston', 'Quantity': 83, 'Region': 'West'}\n",
      "{'City': 'Los Angeles', 'Quantity': 100, 'Region': 'West'}\n",
      "{'City': 'San Diego', 'Quantity': 96, 'Region': 'West'}\n"
     ]
    }
   ],
   "source": [
    "#west region sales on quality between 70 to 100\n",
    "\n",
    "for i in db.fooddata.aggregate([{\"$match\":{\"$and\":[{\"Quantity\":{\"$gte\":70,\"$lte\":100}}]}},{\"$project\":{\"_id\":0,\"Region\":\"West\",\"City\":1,\"Quantity\":1}}]):\n",
    "    print(i)"
   ]
  },
  {
   "cell_type": "code",
   "execution_count": 28,
   "id": "1e132849",
   "metadata": {},
   "outputs": [
    {
     "name": "stdout",
     "output_type": "stream",
     "text": [
      "{'City': 'Los Angeles', 'Quantity': 288, 'Region': 'West'}\n",
      "{'City': 'Los Angeles', 'Quantity': 306, 'Region': 'West'}\n",
      "{'City': 'New York', 'Quantity': 224, 'Region': 'West'}\n",
      "{'City': 'New York', 'Quantity': 237, 'Region': 'West'}\n",
      "{'City': 'Los Angeles', 'Quantity': 232, 'Region': 'West'}\n",
      "{'City': 'Boston', 'Quantity': 211, 'Region': 'West'}\n",
      "{'City': 'Boston', 'Quantity': 245, 'Region': 'West'}\n"
     ]
    }
   ],
   "source": [
    "#west region sales on quantity greater than 200 and less than 310\n",
    "\n",
    "for i in db.fooddata.aggregate([{\"$match\":{\"$and\":[{\"Quantity\":{\"$gte\":200,\"$lte\":310}}]}},{\"$project\":{\"_id\":0,\"Region\":\"West\",\"City\":1,\"Quantity\":1}}]):\n",
    "    print(i)"
   ]
  },
  {
   "cell_type": "code",
   "execution_count": null,
   "id": "d69f2952",
   "metadata": {},
   "outputs": [],
   "source": []
  }
 ],
 "metadata": {
  "kernelspec": {
   "display_name": "Python 3",
   "language": "python",
   "name": "python3"
  },
  "language_info": {
   "codemirror_mode": {
    "name": "ipython",
    "version": 3
   },
   "file_extension": ".py",
   "mimetype": "text/x-python",
   "name": "python",
   "nbconvert_exporter": "python",
   "pygments_lexer": "ipython3",
   "version": "3.8.8"
  }
 },
 "nbformat": 4,
 "nbformat_minor": 5
}
